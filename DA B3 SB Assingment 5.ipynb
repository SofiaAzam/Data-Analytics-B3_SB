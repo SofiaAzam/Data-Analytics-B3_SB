{
 "cells": [
  {
   "cell_type": "markdown",
   "id": "e92df651",
   "metadata": {},
   "source": [
    "# ASSINGMENT 5"
   ]
  },
  {
   "cell_type": "markdown",
   "id": "489bc603",
   "metadata": {},
   "source": [
    "#### Q no1:Write a Python function called add_numbers that takes two numbers as arguments and returns their sum. Then, test the function by calling it with two numbers of your choice."
   ]
  },
  {
   "cell_type": "code",
   "execution_count": 2,
   "id": "b243b583",
   "metadata": {},
   "outputs": [
    {
     "name": "stdout",
     "output_type": "stream",
     "text": [
      "The sum is: 40\n"
     ]
    }
   ],
   "source": [
    "#Solution:\n",
    "\n",
    "def add_numbers(a, b):\n",
    "    return a + b\n",
    "result = add_numbers(15, 25)\n",
    "print(\"The sum is:\", result)"
   ]
  },
  {
   "cell_type": "markdown",
   "id": "02eef08f",
   "metadata": {},
   "source": [
    "#### Q no 2:Create a Python function called currency_converter() that takes two arguments:\n",
    "amount: The amount of money to be converted (in USD).\n",
    "exchange_rate (default is 280): The conversion rate from USD to another currency (e.g., PKR). You can assume the default rate is 1 USD = 280 PKR."
   ]
  },
  {
   "cell_type": "code",
   "execution_count": 3,
   "id": "d8392071",
   "metadata": {},
   "outputs": [
    {
     "name": "stdout",
     "output_type": "stream",
     "text": [
      "Converted amount in PKR: 2800\n"
     ]
    }
   ],
   "source": [
    "# SOlution \n",
    "def currency_converter(amount, exchange_rate=280):\n",
    "    return amount * exchange_rate\n",
    "\n",
    "converted_amount = currency_converter(10)  # 100 USD to PKR\n",
    "print(\"Converted amount in PKR:\", converted_amount)"
   ]
  },
  {
   "cell_type": "markdown",
   "id": "32cdd80f",
   "metadata": {},
   "source": [
    "#### Qno3:Write a Python function display_student_info that accepts the following details about a student:\n",
    "name (Keyword argument): The name of the student.\n",
    "\n",
    "age (Keyword argument): The age of the student.\n",
    "\n",
    "grade (Keyword argument): The grade the student is in.\n",
    "\n",
    "school (Keyword argument): The name of the school the student attends."
   ]
  },
  {
   "cell_type": "code",
   "execution_count": 4,
   "id": "d070e31f",
   "metadata": {},
   "outputs": [
    {
     "name": "stdout",
     "output_type": "stream",
     "text": [
      "Student Information:\n",
      "Name: Alina\n",
      "Age: 13\n",
      "Grade: 7th\n",
      "School: Beacon House\n"
     ]
    }
   ],
   "source": [
    "#SOlution \n",
    "def display_student_info(*, name, age, grade, school):\n",
    "    print(\"Student Information:\")\n",
    "    print(\"Name:\", name)\n",
    "    print(\"Age:\", age)\n",
    "    print(\"Grade:\", grade)\n",
    "    print(\"School:\", school)\n",
    "\n",
    "# Test the function with keyword arguments\n",
    "display_student_info(name=\"Alina\", age=13, grade=\"7th\", school=\"Beacon House\")"
   ]
  },
  {
   "cell_type": "markdown",
   "id": "c481d5c1",
   "metadata": {},
   "source": [
    "#### Qno4:Write a Python function calculate_price that accepts two positional arguments:\n",
    "price: The price of a single item.\n",
    "    \n",
    "quantity: The number of items bought.\n",
    "    \n",
    "The function should return the total price by multiplying price and quantity."
   ]
  },
  {
   "cell_type": "code",
   "execution_count": 5,
   "id": "c49626fc",
   "metadata": {},
   "outputs": [
    {
     "name": "stdout",
     "output_type": "stream",
     "text": [
      "Total price: 50\n"
     ]
    }
   ],
   "source": [
    "#SOlution\n",
    "def calculate_price(price, quantity):\n",
    "    return price * quantity\n",
    "\n",
    "# Test the function\n",
    "total = calculate_price(10, 5)  # 10 per item, 5 items\n",
    "print(\"Total price:\", total)"
   ]
  },
  {
   "cell_type": "markdown",
   "id": "45fd87d1",
   "metadata": {},
   "source": [
    "#### Qno5:Write a Python function display_prices that takes a product name and an arbitrary number of keyword arguments representing product prices. The function should display each product and its price.\n",
    "Product: Laptop\n",
    "\n",
    "Amazon: $800\n",
    "\n",
    "eBay: $750\n",
    "\n",
    "Walmart: $780"
   ]
  },
  {
   "cell_type": "code",
   "execution_count": 6,
   "id": "d2762a54",
   "metadata": {},
   "outputs": [
    {
     "name": "stdout",
     "output_type": "stream",
     "text": [
      "Product: Laptop\n",
      "Amazon: $800\n",
      "eBay: $750\n",
      "Walmart: $780\n"
     ]
    }
   ],
   "source": [
    "# Solution \n",
    "def display_prices(product, **prices):\n",
    "    print(f\"Product: {product}\")\n",
    "    for store, price in prices.items():\n",
    "        print(f\"{store}: ${price}\")\n",
    "\n",
    "display_prices(\n",
    "    product=\"Laptop\",\n",
    "    Amazon=800,\n",
    "    eBay=750,\n",
    "    Walmart=780\n",
    ")"
   ]
  },
  {
   "cell_type": "markdown",
   "id": "746f203e",
   "metadata": {},
   "source": [
    "#### Qno 6: Write a Python function find_max that takes any number of numerical arguments and returns the maximum number."
   ]
  },
  {
   "cell_type": "code",
   "execution_count": 7,
   "id": "acf51901",
   "metadata": {},
   "outputs": [
    {
     "name": "stdout",
     "output_type": "stream",
     "text": [
      "Maximum number: 98\n"
     ]
    }
   ],
   "source": [
    "#SOlution\n",
    "def find_max(*numbers):\n",
    "    if not numbers:\n",
    "        return None  # Return None if no arguments are passed\n",
    "    return max(numbers)\n",
    "\n",
    "# Test the function\n",
    "result = find_max(14, 55, 70, 98, 32)\n",
    "print(\"Maximum number:\", result)"
   ]
  },
  {
   "cell_type": "markdown",
   "id": "3e23ac77",
   "metadata": {},
   "source": [
    "#### Qno7:Write a Python function display_info that takes: Positional arguments for the name and age of a person. Keyword arguments for other personal details like address, phone number, and email. Example Output:\n",
    "Name: Alice\n",
    "\n",
    "Age: 30\n",
    "\n",
    "Other Details:\n",
    "\n",
    "   address: 123 Main St\n",
    "   \n",
    "   phone: 123-456-7890\n",
    "   \n",
    "   \n",
    "  email: alice@example.com"
   ]
  },
  {
   "cell_type": "code",
   "execution_count": 8,
   "id": "5b574e9e",
   "metadata": {},
   "outputs": [
    {
     "name": "stdout",
     "output_type": "stream",
     "text": [
      "Name: Alice\n",
      "Age: 30\n",
      "Other Details:\n",
      "address: 123 Main St\n",
      "phone: 123-456-7890\n",
      "email: alice@example.com\n"
     ]
    }
   ],
   "source": [
    "#SOlution:\n",
    "def display_info(name, age, **other_details):\n",
    "    print(f\"Name: {name}\")\n",
    "    print(f\"Age: {age}\")\n",
    "    if other_details:\n",
    "        print(\"Other Details:\")\n",
    "        for key, value in other_details.items():\n",
    "            print(f\"{key}: {value}\")\n",
    "\n",
    "# Test the function\n",
    "display_info(\n",
    "    \"Alice\",\n",
    "    30,\n",
    "    address=\"123 Main St\",\n",
    "    phone=\"123-456-7890\",\n",
    "    email=\"alice@example.com\"\n",
    ")"
   ]
  },
  {
   "cell_type": "markdown",
   "id": "b8ca56db",
   "metadata": {},
   "source": [
    "#### Qno8: products = [ {\"name\": \"Laptop\", \"price\": 1200, \"in_stock\": True, \"discount\": 0.1}, {\"name\": \"Smartphone\", \"price\": 800, \"in_stock\": False, \"discount\": 0.05}, {\"name\": \"Headphones\", \"price\": 150, \"in_stock\": True, \"discount\": 0.2}, {\"name\": \"Smartwatch\", \"price\": 300, \"in_stock\": True, \"discount\": 0}, {\"name\": \"Keyboard\", \"price\": 100, \"in_stock\": True, \"discount\": 0.15} ]\n",
    "Get names of in-stock products:\n",
    "*Use list comprehension to generate a list of names for the products that are in stock.\n",
    "\n",
    "Calculate final prices for in-stock products after discount:\n",
    "*For products that have a discount, calculate the final price by applying the discount.\n",
    "\n",
    "*For products with no discount, keep the original price.\n",
    "\n",
    "Generate a list of tuples with the product name and its final price.\n",
    "Example Output:\n",
    "\n",
    "In-stock product names: ['Laptop', 'Headphones', 'Smartwatch', 'Keyboard']"
   ]
  },
  {
   "cell_type": "code",
   "execution_count": 9,
   "id": "606d4341",
   "metadata": {},
   "outputs": [
    {
     "name": "stdout",
     "output_type": "stream",
     "text": [
      "In-stock product names: ['Laptop', 'Headphones', 'Smartwatch', 'Keyboard']\n",
      "Final prices for in-stock products: [('Laptop', 1080.0), ('Headphones', 120.0), ('Smartwatch', 300), ('Keyboard', 85.0)]\n"
     ]
    }
   ],
   "source": [
    "#Solution:\n",
    "products = [\n",
    "    {\"name\": \"Laptop\", \"price\": 1200, \"in_stock\": True, \"discount\": 0.1},\n",
    "    {\"name\": \"Smartphone\", \"price\": 800, \"in_stock\": False, \"discount\": 0.05},\n",
    "    {\"name\": \"Headphones\", \"price\": 150, \"in_stock\": True, \"discount\": 0.2},\n",
    "    {\"name\": \"Smartwatch\", \"price\": 300, \"in_stock\": True, \"discount\": 0},\n",
    "    {\"name\": \"Keyboard\", \"price\": 100, \"in_stock\": True, \"discount\": 0.15}\n",
    "]\n",
    "\n",
    "# 1. Names of in-stock products\n",
    "in_stock_names = [product[\"name\"] for product in products if product[\"in_stock\"]]\n",
    "\n",
    "# 2. Final prices for in-stock products after discount\n",
    "final_prices = [\n",
    "    (product[\"name\"], product[\"price\"] * (1 - product[\"discount\"]) if product[\"discount\"] > 0 else product[\"price\"])\n",
    "    for product in products if product[\"in_stock\"]\n",
    "]\n",
    "\n",
    "print(\"In-stock product names:\", in_stock_names)\n",
    "print(\"Final prices for in-stock products:\", final_prices)"
   ]
  },
  {
   "cell_type": "markdown",
   "id": "6e0bc662",
   "metadata": {},
   "source": [
    "#### Qno 9: .Create a list of even numbers between 1 and 20. (List Comprehension)"
   ]
  },
  {
   "cell_type": "code",
   "execution_count": null,
   "id": "23699e33",
   "metadata": {},
   "outputs": [],
   "source": [
    "#Solution\n",
    "even_numbers = [num for num in range(1, 21) if num % 2 == 0]\n",
    "print(even_numbers)"
   ]
  }
 ],
 "metadata": {
  "kernelspec": {
   "display_name": "Python 3 (ipykernel)",
   "language": "python",
   "name": "python3"
  },
  "language_info": {
   "codemirror_mode": {
    "name": "ipython",
    "version": 3
   },
   "file_extension": ".py",
   "mimetype": "text/x-python",
   "name": "python",
   "nbconvert_exporter": "python",
   "pygments_lexer": "ipython3",
   "version": "3.9.7"
  }
 },
 "nbformat": 4,
 "nbformat_minor": 5
}
