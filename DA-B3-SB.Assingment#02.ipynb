{
 "cells": [
  {
   "cell_type": "markdown",
   "id": "7e8dbd2e",
   "metadata": {},
   "source": [
    "# Data Anlytics assingment #02"
   ]
  },
  {
   "cell_type": "markdown",
   "id": "8b3e6472",
   "metadata": {},
   "source": [
    "##  Q1:Solution "
   ]
  },
  {
   "cell_type": "code",
   "execution_count": 1,
   "id": "5f901b1d",
   "metadata": {},
   "outputs": [
    {
     "name": "stdout",
     "output_type": "stream",
     "text": [
      "Modified Text: hello_python_world\n",
      "Split List: ['hello', 'python', 'world']\n",
      "Final Text: hello-python-world\n"
     ]
    }
   ],
   "source": [
    "text = 'hello python world'\n",
    "\n",
    "# Step 1: Replace spaces with underscores\n",
    "new_text = text.replace(' ', '_')\n",
    "print(\"Modified Text:\", new_text)\n",
    "\n",
    "# Step 2: Split the modified string into a list\n",
    "split_list = new_text.split('_')\n",
    "print(\"Split List:\", split_list)\n",
    "\n",
    "# Step 3: Join the list elements with a hyphen\n",
    "final_text = '-'.join(split_list)\n",
    "print(\"Final Text:\", final_text)"
   ]
  },
  {
   "cell_type": "markdown",
   "id": "b3eb00ef",
   "metadata": {},
   "source": [
    "## Q2: Solution"
   ]
  },
  {
   "cell_type": "code",
   "execution_count": 2,
   "id": "602386f9",
   "metadata": {},
   "outputs": [
    {
     "name": "stdout",
     "output_type": "stream",
     "text": [
      "True\n"
     ]
    }
   ],
   "source": [
    "# check length of word \"Javascript\" and return true if lebgth is greater than 5\n",
    "word = \"Javascript\"\n",
    "result = len(word) > 5\n",
    "print(result)"
   ]
  },
  {
   "cell_type": "markdown",
   "id": "443a0810",
   "metadata": {},
   "source": [
    "## Q3: Solution"
   ]
  },
  {
   "cell_type": "code",
   "execution_count": 3,
   "id": "569fb208",
   "metadata": {},
   "outputs": [
    {
     "name": "stdout",
     "output_type": "stream",
     "text": [
      "True\n"
     ]
    }
   ],
   "source": [
    "#Check if a number is even and greater than 10. Return True/False\n",
    "num2 = 12\n",
    "result = (num2 % 2 == 0) and (num2 > 10)\n",
    "print(result)"
   ]
  },
  {
   "cell_type": "markdown",
   "id": "7383d5b3",
   "metadata": {},
   "source": [
    "## Q4:Solution"
   ]
  },
  {
   "cell_type": "code",
   "execution_count": 4,
   "id": "4929fa38",
   "metadata": {},
   "outputs": [
    {
     "name": "stdout",
     "output_type": "stream",
     "text": [
      "True\n"
     ]
    }
   ],
   "source": [
    "#  Check if a number is less than 5 or greater than 20. Return True/False\n",
    "num3 = 3\n",
    "result = (num3 < 5) or (num3 > 20)\n",
    "print(result)"
   ]
  },
  {
   "cell_type": "markdown",
   "id": "7bffc5da",
   "metadata": {},
   "source": [
    "## Q5: Solution"
   ]
  },
  {
   "cell_type": "code",
   "execution_count": 5,
   "id": "b552d6a5",
   "metadata": {},
   "outputs": [
    {
     "name": "stdout",
     "output_type": "stream",
     "text": [
      "Enter your age: 30\n",
      "True\n"
     ]
    }
   ],
   "source": [
    "#Check if a person’s age is between 18 and 65 and if they have a valid ID (age = 25,has_id = True)\n",
    "\n",
    "has_id = True \n",
    "\n",
    "age = int(input(\"Enter your age: \"))\n",
    "\n",
    "result = (18 <= age <= 65) and has_id\n",
    "print(result)"
   ]
  },
  {
   "cell_type": "code",
   "execution_count": 6,
   "id": "5ece31a4",
   "metadata": {},
   "outputs": [
    {
     "name": "stdout",
     "output_type": "stream",
     "text": [
      "Enter your age: 89\n",
      "False\n"
     ]
    }
   ],
   "source": [
    "#Exmp#2: Check if a person’s age is between 18 and 65 and if they have a valid ID (age = 25,has_id = True)\n",
    "\n",
    "has_id = True \n",
    "\n",
    "age = int(input(\"Enter your age: \"))\n",
    "\n",
    "result = (18 <= age <= 65) and has_id\n",
    "print(result)"
   ]
  },
  {
   "cell_type": "markdown",
   "id": "aa708951",
   "metadata": {},
   "source": [
    "## Q6: Solution"
   ]
  },
  {
   "cell_type": "code",
   "execution_count": 7,
   "id": "c25f51da",
   "metadata": {},
   "outputs": [
    {
     "name": "stdout",
     "output_type": "stream",
     "text": [
      "True\n"
     ]
    }
   ],
   "source": [
    "#check url\n",
    "url = \"https://www.example.com\"\n",
    "\n",
    "result = url.startswith(\"http://\") or url.startswith(\"https://\")\n",
    "print(result)"
   ]
  },
  {
   "cell_type": "markdown",
   "id": "9dd8fb2f",
   "metadata": {},
   "source": [
    "## Q7: Solution"
   ]
  },
  {
   "cell_type": "code",
   "execution_count": 9,
   "id": "bb95053c",
   "metadata": {},
   "outputs": [
    {
     "name": "stdout",
     "output_type": "stream",
     "text": [
      "Discounted price: 90.0\n"
     ]
    }
   ],
   "source": [
    "#Write a script that applies a 10% discount to an item's price. (Using Assignment Operator)for price = 100\n",
    "price = 100\n",
    "\n",
    "price -= price * 0.10                    # Calculate 10% of the price and subtract it\n",
    "\n",
    "print(\"Discounted price:\", price)"
   ]
  },
  {
   "cell_type": "markdown",
   "id": "b42896b9",
   "metadata": {},
   "source": [
    "## Q8: Solution"
   ]
  },
  {
   "cell_type": "code",
   "execution_count": 10,
   "id": "fe5d2717",
   "metadata": {},
   "outputs": [
    {
     "name": "stdout",
     "output_type": "stream",
     "text": [
      "False\n"
     ]
    }
   ],
   "source": [
    "premium_customers = [\"alice@example.com\", \"charlie@example.com\", \"bob@example.com\"]\n",
    "basic_customers = [\"alex@example.com\", \"david@example.com\", \"chloe@example.com\"]\n",
    "\n",
    "email = \"alice@example.com\"\n",
    "\n",
    "# Convert lists to sets and check for intersection\n",
    "\n",
    "is_in_both = email in set(premium_customers) & set(basic_customers)\n",
    "print(is_in_both)"
   ]
  },
  {
   "cell_type": "markdown",
   "id": "a9e2f16f",
   "metadata": {},
   "source": [
    "## Q9: Solution"
   ]
  },
  {
   "cell_type": "code",
   "execution_count": 18,
   "id": "7f8c9bf6",
   "metadata": {},
   "outputs": [
    {
     "name": "stdout",
     "output_type": "stream",
     "text": [
      "Enter your password: A@fgv45\n",
      "True\n"
     ]
    }
   ],
   "source": [
    "\n",
    "# Prompt the user to enter a password\n",
    "password = input(\"Enter your password: \")\n",
    "\n",
    "# Check for conditions\n",
    "has_uppercase = any(char.isupper() for char in password)\n",
    "has_lowercase = any(char.islower() for char in password)\n",
    "has_space = ' ' in password\n",
    "has_special_char = any(char in string.punctuation for char in password)\n",
    "\n",
    "# Return True if all conditions are met, else False\n",
    "result = has_uppercase and has_lowercase and not has_space and has_special_char\n",
    "\n",
    "print(result)"
   ]
  },
  {
   "cell_type": "markdown",
   "id": "c58d7874",
   "metadata": {},
   "source": [
    "## Q10:Solution"
   ]
  },
  {
   "cell_type": "code",
   "execution_count": 19,
   "id": "882a4df0",
   "metadata": {},
   "outputs": [
    {
     "name": "stdout",
     "output_type": "stream",
     "text": [
      "First dash position: 3\n",
      "Number of dashes: 2\n",
      "Extracted numeric part: 12345\n"
     ]
    }
   ],
   "source": [
    "product_code = \"SKU-12345-XYZ\"\n",
    "\n",
    "# Find the first position of the dash (-)\n",
    "first_dash_position = product_code.find('-')\n",
    "print(\"First dash position:\", first_dash_position)\n",
    "\n",
    "# Count the number of dashes (-) in the product code\n",
    "dash_count = product_code.count('-')\n",
    "print(\"Number of dashes:\", dash_count)\n",
    "\n",
    "# Remove the \"SKU-\" prefix and \"-XYZ\" suffix, and extract the numeric part\n",
    "numeric_part = product_code[4:-4]\n",
    "print(\"Extracted numeric part:\", numeric_part)"
   ]
  },
  {
   "cell_type": "code",
   "execution_count": null,
   "id": "3629df76",
   "metadata": {},
   "outputs": [],
   "source": []
  }
 ],
 "metadata": {
  "kernelspec": {
   "display_name": "Python 3 (ipykernel)",
   "language": "python",
   "name": "python3"
  },
  "language_info": {
   "codemirror_mode": {
    "name": "ipython",
    "version": 3
   },
   "file_extension": ".py",
   "mimetype": "text/x-python",
   "name": "python",
   "nbconvert_exporter": "python",
   "pygments_lexer": "ipython3",
   "version": "3.9.7"
  }
 },
 "nbformat": 4,
 "nbformat_minor": 5
}
