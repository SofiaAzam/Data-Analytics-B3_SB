{
 "cells": [
  {
   "cell_type": "markdown",
   "id": "c0c0595d",
   "metadata": {},
   "source": [
    "# Assigment#01"
   ]
  },
  {
   "cell_type": "markdown",
   "id": "6938d73a",
   "metadata": {},
   "source": [
    "###  Q#1: Solution"
   ]
  },
  {
   "cell_type": "code",
   "execution_count": 4,
   "id": "365de0ec",
   "metadata": {},
   "outputs": [],
   "source": [
    "a=15\n",
    "b=4\n",
    "add = a+b\n",
    "difference =a-b\n",
    "product= a*b\n",
    "division= a/b\n"
   ]
  },
  {
   "cell_type": "code",
   "execution_count": 7,
   "id": "a8d47294",
   "metadata": {},
   "outputs": [
    {
     "name": "stdout",
     "output_type": "stream",
     "text": [
      "sum of two numbers is:  19\n",
      "Difference of two numbers is:  11\n",
      "Product of two numbers is:  60\n",
      "Division of two numbers is:  3.75\n"
     ]
    }
   ],
   "source": [
    "print(\"sum of two numbers is: \", add)\n",
    "print(\"Difference of two numbers is: \",difference)\n",
    "print(\"Product of two numbers is: \",product)\n",
    "print(\"Division of two numbers is: \",division)\n"
   ]
  },
  {
   "cell_type": "markdown",
   "id": "994261d2",
   "metadata": {},
   "source": [
    "### Q2: Solution"
   ]
  },
  {
   "cell_type": "code",
   "execution_count": 14,
   "id": "e8e46a87",
   "metadata": {},
   "outputs": [
    {
     "name": "stdout",
     "output_type": "stream",
     "text": [
      "Integer to float= 10.0\n",
      "Float to integer= 4\n",
      "Float to String= 5.6\n"
     ]
    }
   ],
   "source": [
    "num1=10\n",
    "num2=5.6\n",
    "num3=4.43\n",
    "print(\"Integer to float=\",float(num1))\n",
    "print(\"Float to integer=\",int(num3))\n",
    "print(\"Float to String=\",(num2))"
   ]
  },
  {
   "cell_type": "markdown",
   "id": "00c93ad8",
   "metadata": {},
   "source": [
    "### Q3: Solution"
   ]
  },
  {
   "cell_type": "code",
   "execution_count": 12,
   "id": "49a2d7bf",
   "metadata": {},
   "outputs": [
    {
     "name": "stdout",
     "output_type": "stream",
     "text": [
      "The 1st fruit= apple\n",
      "The last fruit (negative indexing)= orange\n",
      "The 4th fruit= coconut\n"
     ]
    }
   ],
   "source": [
    "fruits = [\"apple\", \"banana\", \"cherry\", \"coconut\", \"pineapple\", \"mango\", \"orange\"]\n",
    "print(\"The 1st fruit=\",fruits[0])  \n",
    "print(\"The last fruit (negative indexing)=\",fruits[-1])\n",
    "print(\"The 4th fruit=\",fruits[3])\n"
   ]
  },
  {
   "cell_type": "markdown",
   "id": "4017bfce",
   "metadata": {},
   "source": [
    "### Q4:Solution"
   ]
  },
  {
   "cell_type": "code",
   "execution_count": 34,
   "id": "f4f06451",
   "metadata": {},
   "outputs": [
    {
     "name": "stdout",
     "output_type": "stream",
     "text": [
      "1st three elements= [10, 20, 30]\n",
      "Last two elements= [40, 50]\n",
      "All elements except 1st one= [20, 30, 40, 50]\n",
      "All elements except Last one= [10, 20, 30, 40]\n",
      "List in reverse using slicing= [50, 40, 30, 20, 10]\n",
      "Every second number= [10, 30, 50]\n"
     ]
    }
   ],
   "source": [
    "numbers = [10, 20, 30, 40, 50]                          #list slicing\n",
    "print(\"1st three elements=\",numbers[0:3])                #print 1st theree numbers\n",
    "print(\"Last two elements=\",numbers[-2:])                 # last two elements\n",
    "print(\"All elements except 1st one=\",numbers[1:])        #print all elements except 1st one\n",
    "print(\"All elements except Last one=\",numbers[:-1])      #print all elements except last one\n",
    "print(\"List in reverse using slicing=\",numbers[::-1])    #Print the list in reverse using slicing\n",
    "print(\"Every second number=\",numbers[::2])                # every second number"
   ]
  },
  {
   "cell_type": "markdown",
   "id": "9a6f01d8",
   "metadata": {},
   "source": [
    "### Q5: Solution"
   ]
  },
  {
   "cell_type": "code",
   "execution_count": 41,
   "id": "a9e5bede",
   "metadata": {},
   "outputs": [
    {
     "name": "stdout",
     "output_type": "stream",
     "text": [
      "List before adding number at the end= [1, 2, 3]\n",
      "List after adding number at the end= [1, 2, 3, 10]\n"
     ]
    }
   ],
   "source": [
    "# Add number 10 at end using method\n",
    "nums = [1, 2, 3]\n",
    "print(\"List before adding number at the end=\",nums)\n",
    "nums.append(10)\n",
    "print(\"List after adding number at the end=\",nums)"
   ]
  },
  {
   "cell_type": "markdown",
   "id": "7a6a49d2",
   "metadata": {},
   "source": [
    "### Q6: SOlution"
   ]
  },
  {
   "cell_type": "code",
   "execution_count": 44,
   "id": "ba108b05",
   "metadata": {},
   "outputs": [
    {
     "name": "stdout",
     "output_type": "stream",
     "text": [
      "Orignal List                   = [1, 2, 3]\n",
      "List after adding 99 at index 1= [1, 99, 2, 3]\n"
     ]
    }
   ],
   "source": [
    "#Insert the number 99 at index 1 using method.\n",
    "nums = [1, 2, 3]\n",
    "print(\"Orignal List                   =\",nums)\n",
    "nums.insert(1,99)\n",
    "print(\"List after adding 99 at index 1=\",nums)\n"
   ]
  },
  {
   "cell_type": "markdown",
   "id": "552ebb12",
   "metadata": {},
   "source": [
    "### Q7: Solution"
   ]
  },
  {
   "cell_type": "code",
   "execution_count": 47,
   "id": "546edca3",
   "metadata": {},
   "outputs": [
    {
     "name": "stdout",
     "output_type": "stream",
     "text": [
      "Adding two lists= [1, 2, 3, 4, 5]\n"
     ]
    }
   ],
   "source": [
    "#Add the elements of another list [4, 5] to the original list using method\n",
    "nums = [1, 2, 3]\n",
    "nums1=[4,5]\n",
    "add=nums+nums1\n",
    "print(\"Adding two lists=\",add)"
   ]
  },
  {
   "cell_type": "markdown",
   "id": "5078d6a7",
   "metadata": {},
   "source": [
    "### Q8:SOlution"
   ]
  },
  {
   "cell_type": "code",
   "execution_count": 53,
   "id": "9a769232",
   "metadata": {},
   "outputs": [
    {
     "name": "stdout",
     "output_type": "stream",
     "text": [
      "UnSorted list = [4, 1, 3, 2]\n",
      "Sorted list is= [1, 2, 3, 4]\n"
     ]
    }
   ],
   "source": [
    "#Sort the list in ascending order using method\n",
    "nums = [4, 1, 3, 2]\n",
    "print(\"UnSorted list =\",nums)\n",
    "nums.sort()\n",
    "print(\"Sorted list is=\",nums)"
   ]
  },
  {
   "cell_type": "markdown",
   "id": "24075dc8",
   "metadata": {},
   "source": [
    "### Q9: Solution"
   ]
  },
  {
   "cell_type": "code",
   "execution_count": 67,
   "id": "798c618b",
   "metadata": {},
   "outputs": [
    {
     "name": "stdout",
     "output_type": "stream",
     "text": [
      "List of orders= ['burger', 'fries', 'coke']\n",
      "List of orders after adding= ['burger', 'fries', 'coke', 'ice cream']\n",
      "Brayani not found\n",
      "FInal order ['burger', 'fries', 'coke', 'ice cream']\n"
     ]
    }
   ],
   "source": [
    "#A customer orders several food items. Add the items to a list and then:\n",
    "order = [\"burger\", \"fries\", \"coke\"]\n",
    "print(\"List of orders=\",order)\n",
    "\n",
    "#Add a new item \"ice cream\" using append()\n",
    "order.append(\"ice cream\")                   \n",
    "print(\"List of orders after adding=\",order)\n",
    "\n",
    "#Remove an item \"biryani\" using remove()\n",
    "if \"Baryani\" in order:\n",
    "     order.remove(\"Baryani\")\n",
    "     print(\"List of orders after removing =\",order)\n",
    "else:\n",
    "    print(\"Brayani not found\")\n",
    "\n",
    "#Show the final order\n",
    "print(\"FInal order\",order)"
   ]
  },
  {
   "cell_type": "markdown",
   "id": "1b9237a8",
   "metadata": {},
   "source": [
    "### Q10: Solution"
   ]
  },
  {
   "cell_type": "code",
   "execution_count": 78,
   "id": "a0eeaec0",
   "metadata": {},
   "outputs": [
    {
     "name": "stdout",
     "output_type": "stream",
     "text": [
      "List of All pessengers ['Ali', 'Zara', 'Ahmed']\n",
      "List of pessengers after adding Sara= ['Ali', 'Sara', 'Zara', 'Ahmed']\n",
      "List of pessengers after removing Zara= ['Ali', 'Sara', 'Ahmed']\n",
      "List of pessengers in reverse order= ['Ahmed', 'Sara', 'Ali']\n"
     ]
    }
   ],
   "source": [
    "#Track passengers on a bus:\n",
    "passengers = [\"Ali\", \"Zara\", \"Ahmed\"]\n",
    "print(\"List of All pessengers\",passengers)\n",
    "\n",
    "#Insert a new passenger \"Sara\" at position 2\n",
    "passengers.insert(1,\"Sara\")\n",
    "print(\"List of pessengers after adding Sara=\", passengers)\n",
    "\n",
    "#Remove passesnger who got off \"Zara\"\n",
    "passengers.remove(\"Zara\")\n",
    "print(\"List of pessengers after removing Zara=\", passengers)\n",
    "\n",
    "#Reverse the order to show who entered first\n",
    "\n",
    "passengers.reverse()\n",
    "print(\"List of pessengers in reverse order=\", passengers)"
   ]
  },
  {
   "cell_type": "code",
   "execution_count": null,
   "id": "8102c7c4",
   "metadata": {},
   "outputs": [],
   "source": []
  }
 ],
 "metadata": {
  "kernelspec": {
   "display_name": "Python 3 (ipykernel)",
   "language": "python",
   "name": "python3"
  },
  "language_info": {
   "codemirror_mode": {
    "name": "ipython",
    "version": 3
   },
   "file_extension": ".py",
   "mimetype": "text/x-python",
   "name": "python",
   "nbconvert_exporter": "python",
   "pygments_lexer": "ipython3",
   "version": "3.9.7"
  }
 },
 "nbformat": 4,
 "nbformat_minor": 5
}
