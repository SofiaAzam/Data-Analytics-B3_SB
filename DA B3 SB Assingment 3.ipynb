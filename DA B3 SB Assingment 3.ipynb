{
 "cells": [
  {
   "cell_type": "markdown",
   "id": "7c5f1f61",
   "metadata": {},
   "source": [
    "### Assingment no 3"
   ]
  },
  {
   "cell_type": "markdown",
   "id": "c2f77879",
   "metadata": {},
   "source": [
    "## Q1: Solution"
   ]
  },
  {
   "cell_type": "code",
   "execution_count": 2,
   "id": "84bb5272",
   "metadata": {},
   "outputs": [
    {
     "name": "stdout",
     "output_type": "stream",
     "text": [
      "Please enter your age45\n",
      "Adult\n"
     ]
    }
   ],
   "source": [
    "# Age group classification\n",
    "\n",
    "age=int(input(\"Please enter your age\"))\n",
    "if 0 <= age <= 12:\n",
    "    print(\"Child\")\n",
    "elif  13 <= age <= 19:\n",
    "    print(\"Teenager\")\n",
    "elif 20 <= age <= 64:\n",
    "    print('Adult')\n",
    "else:\n",
    "    print(\"Senior\")"
   ]
  },
  {
   "cell_type": "markdown",
   "id": "8bdd5046",
   "metadata": {},
   "source": [
    "## Q2: Solution"
   ]
  },
  {
   "cell_type": "code",
   "execution_count": 4,
   "id": "c58df8ff",
   "metadata": {},
   "outputs": [
    {
     "name": "stdout",
     "output_type": "stream",
     "text": [
      "Please enter your email adresssofiaazam15@gmail.com\n",
      "Valid email Format\n"
     ]
    }
   ],
   "source": [
    "# Check email format\n",
    "\n",
    "email=input(\"Please enter your email adress\")\n",
    "if '@' in email and '.' in email:\n",
    "    print(\"Valid email Format\")\n",
    "else:\n",
    "    print(\"Invalid Email Format\")"
   ]
  },
  {
   "cell_type": "markdown",
   "id": "01bb7074",
   "metadata": {},
   "source": [
    "## Q3: Solution"
   ]
  },
  {
   "cell_type": "code",
   "execution_count": 10,
   "id": "774b32f0",
   "metadata": {},
   "outputs": [
    {
     "name": "stdout",
     "output_type": "stream",
     "text": [
      "Please enter number 1: 3\n",
      "Please enter number 2: 4\n",
      "Please enter number 3: 5\n",
      "All are different\n",
      "The largest number is; 5\n"
     ]
    }
   ],
   "source": [
    "# check num equal/greater\n",
    "num1=input(\"Please enter number 1: \")\n",
    "num2=input(\"Please enter number 2: \")\n",
    "num3=input(\"Please enter number 3: \")\n",
    "\n",
    "if num1==num2==num3:\n",
    "    print(\"All numbers are equal\")\n",
    "elif num1==num2 or num1==num3 or num2==num3:\n",
    "    print(\"two of them are same\")\n",
    "    \n",
    "else:\n",
    "    print (\"All are different\")\n",
    "    \n",
    "#finding largest number\n",
    "large=max(num1,num2,num3)\n",
    "print(\"The largest number is;\" ,large)"
   ]
  },
  {
   "cell_type": "code",
   "execution_count": 12,
   "id": "88c5f74b",
   "metadata": {},
   "outputs": [
    {
     "name": "stdout",
     "output_type": "stream",
     "text": [
      "Please enter number 1: 45.7\n",
      "Please enter number 2: 89.9\n",
      "Please enter number 3: 674.9\n",
      "All are different\n",
      "The largest number is; 674.9\n"
     ]
    }
   ],
   "source": [
    "# check num equal/greater\n",
    "num1=float(input(\"Please enter number 1: \"))\n",
    "num2=float(input(\"Please enter number 2: \"))\n",
    "num3=float(input(\"Please enter number 3: \"))\n",
    "\n",
    "if num1==num2==num3:\n",
    "    print(\"All numbers are equal\")\n",
    "elif num1==num2 or num1==num3 or num2==num3:\n",
    "    print(\"two of them are same\")\n",
    "    \n",
    "else:\n",
    "    print (\"All are different\")\n",
    "    \n",
    "#finding largest number\n",
    "large=max(num1,num2,num3)\n",
    "print(\"The largest number is;\" ,large)"
   ]
  },
  {
   "cell_type": "markdown",
   "id": "ec287b7a",
   "metadata": {},
   "source": [
    "## Q4: Solution"
   ]
  },
  {
   "cell_type": "code",
   "execution_count": 14,
   "id": "11729c99",
   "metadata": {},
   "outputs": [
    {
     "name": "stdout",
     "output_type": "stream",
     "text": [
      "Please enter a number6\n",
      "Number is positive and even\n"
     ]
    }
   ],
   "source": [
    "num=int(input(\"Please enter a number\"))\n",
    "if num > 0:\n",
    "    if num % 2 == 0:\n",
    "        print(\"Number is positive and even\")\n",
    "    else:\n",
    "        print(\"Number is positive and odd\")\n",
    "else:\n",
    "    print(\"Number is negative\")"
   ]
  },
  {
   "cell_type": "code",
   "execution_count": 15,
   "id": "d0e7352f",
   "metadata": {},
   "outputs": [
    {
     "name": "stdout",
     "output_type": "stream",
     "text": [
      "Please enter a number9\n",
      "Number is positive and odd\n"
     ]
    }
   ],
   "source": [
    "#for odd\n",
    "num=int(input(\"Please enter a number\"))\n",
    "if num > 0:\n",
    "    if num % 2 == 0:\n",
    "        print(\"Number is positive and even\")\n",
    "    else:\n",
    "        print(\"Number is positive and odd\")\n",
    "else:\n",
    "    print(\"Number is negative\")"
   ]
  },
  {
   "cell_type": "code",
   "execution_count": 16,
   "id": "8f019764",
   "metadata": {},
   "outputs": [
    {
     "name": "stdout",
     "output_type": "stream",
     "text": [
      "Please enter a number-5\n",
      "Number is negative\n"
     ]
    }
   ],
   "source": [
    "#negative\n",
    "num=int(input(\"Please enter a number\"))\n",
    "if num > 0:\n",
    "    if num % 2 == 0:\n",
    "        print(\"Number is positive and even\")\n",
    "    else:\n",
    "        print(\"Number is positive and odd\")\n",
    "else:\n",
    "    print(\"Number is negative\")"
   ]
  },
  {
   "cell_type": "markdown",
   "id": "f12547c9",
   "metadata": {},
   "source": [
    "## Q5: Solution"
   ]
  },
  {
   "cell_type": "code",
   "execution_count": 30,
   "id": "459aef61",
   "metadata": {},
   "outputs": [
    {
     "name": "stdout",
     "output_type": "stream",
     "text": [
      "Enter username: admin\n",
      "Enter password: 234\n",
      "Incorrect password.\n"
     ]
    }
   ],
   "source": [
    "correct_username = \"admin\"\n",
    "correct_password = \"1234\"\n",
    "\n",
    "# Get user input\n",
    "username = input(\"Enter username: \")\n",
    "password = input(\"Enter password: \")\n",
    "\n",
    "# Check credentials\n",
    "if username == correct_username:\n",
    "    if password == correct_password:\n",
    "        print(\"Access granted.\")\n",
    "    else:\n",
    "        print(\"Incorrect password.\")\n",
    "else:\n",
    "    print(\"Incorrect username.\")"
   ]
  },
  {
   "cell_type": "markdown",
   "id": "687943e9",
   "metadata": {},
   "source": [
    "## Q6: Solution"
   ]
  },
  {
   "cell_type": "code",
   "execution_count": 35,
   "id": "539c132e",
   "metadata": {},
   "outputs": [
    {
     "name": "stdout",
     "output_type": "stream",
     "text": [
      "Please enter the number: 10\n",
      "this number exist in tuple\n"
     ]
    }
   ],
   "source": [
    "my_tuple = (5, 10, 15, 20, 25)\n",
    "num=int(input(\"Please enter the number: \"))\n",
    "\n",
    "if num in my_tuple:\n",
    "    print(\"this number exist in tuple\")\n",
    "else:\n",
    "    print(\"Number not found\")"
   ]
  },
  {
   "cell_type": "markdown",
   "id": "c4b4f8f3",
   "metadata": {},
   "source": [
    "## Q7: Solution"
   ]
  },
  {
   "cell_type": "code",
   "execution_count": 39,
   "id": "fb3b0741",
   "metadata": {},
   "outputs": [
    {
     "name": "stdout",
     "output_type": "stream",
     "text": [
      "Please enter your first name: Sofia\n",
      "Please enter your last name: Azam\n",
      "Please enter your age: 30\n",
      "Info in tuple is  ('Sofia', 'Azam', 30)\n"
     ]
    }
   ],
   "source": [
    "first_name=input(\"Please enter your first name: \")\n",
    "Last_name=input(\"Please enter your last name: \")\n",
    "age=int(input(\"Please enter your age: \"))\n",
    "\n",
    "user_info=(first_name,Last_name,age)\n",
    "\n",
    "print (\"Info in tuple is \",user_info)\n"
   ]
  },
  {
   "cell_type": "markdown",
   "id": "dd1ce52b",
   "metadata": {},
   "source": [
    "## Q8: SOlution"
   ]
  },
  {
   "cell_type": "code",
   "execution_count": 41,
   "id": "543b5636",
   "metadata": {},
   "outputs": [
    {
     "name": "stdout",
     "output_type": "stream",
     "text": [
      "The sum of x, y, and z is: 15\n"
     ]
    }
   ],
   "source": [
    "coordinates = (4, 5, 6)\n",
    "\n",
    "# Unpack the tuple into variables\n",
    "x, y, z = coordinates\n",
    "\n",
    "# Calculate the sum\n",
    "total = x + y + z\n",
    "\n",
    "# Print the result\n",
    "print(f\"The sum of x, y, and z is:\", total)"
   ]
  },
  {
   "cell_type": "markdown",
   "id": "51a011a0",
   "metadata": {},
   "source": [
    "## Q9: Solution"
   ]
  },
  {
   "cell_type": "code",
   "execution_count": 43,
   "id": "2dc470fe",
   "metadata": {},
   "outputs": [
    {
     "name": "stdout",
     "output_type": "stream",
     "text": [
      "Updated tuple: (1, 2, 4, 5)\n"
     ]
    }
   ],
   "source": [
    "my_tuple = (1, 2, 3, 4, 5)\n",
    "temp_list = list(my_tuple)\n",
    "\n",
    "if 3 in temp_list:\n",
    "    temp_list.remove(3)\n",
    "\n",
    "# Convert back to tuple\n",
    "updated_tuple = tuple(temp_list)\n",
    "\n",
    "# Print the result\n",
    "print(\"Updated tuple:\", updated_tuple)"
   ]
  },
  {
   "cell_type": "markdown",
   "id": "4b4e7ad8",
   "metadata": {},
   "source": [
    "## Q10: Solution"
   ]
  },
  {
   "cell_type": "code",
   "execution_count": 44,
   "id": "ff295897",
   "metadata": {},
   "outputs": [
    {
     "name": "stdout",
     "output_type": "stream",
     "text": [
      "Maximum value: 30\n",
      "Minimum value: 5\n"
     ]
    }
   ],
   "source": [
    "numbers = (10, 20, 5, 30, 15)\n",
    "\n",
    "max_value = max(numbers)\n",
    "min_value = min(numbers)\n",
    "\n",
    "print(\"Maximum value:\", max_value)\n",
    "print(\"Minimum value:\", min_value)"
   ]
  },
  {
   "cell_type": "code",
   "execution_count": null,
   "id": "4b2c566f",
   "metadata": {},
   "outputs": [],
   "source": []
  }
 ],
 "metadata": {
  "kernelspec": {
   "display_name": "Python 3 (ipykernel)",
   "language": "python",
   "name": "python3"
  },
  "language_info": {
   "codemirror_mode": {
    "name": "ipython",
    "version": 3
   },
   "file_extension": ".py",
   "mimetype": "text/x-python",
   "name": "python",
   "nbconvert_exporter": "python",
   "pygments_lexer": "ipython3",
   "version": "3.9.7"
  }
 },
 "nbformat": 4,
 "nbformat_minor": 5
}
