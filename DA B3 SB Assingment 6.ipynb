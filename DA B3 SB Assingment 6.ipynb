{
 "cells": [
  {
   "cell_type": "markdown",
   "id": "8da1b931",
   "metadata": {},
   "source": [
    "# Data Analytics Assingment 6"
   ]
  },
  {
   "cell_type": "markdown",
   "id": "4725ac99",
   "metadata": {},
   "source": [
    "### Qno1: Imagine a scenario where we have two classes:\n",
    "Person: Represents a person with attributes like name and age, and a method introduce() to introduce the person.Employee: Represents an employee with attributes like employee_id and department, and a method work() to describe the work of the employee.\n",
    "Create a child class Manager that inherits from both Person and Employee. The Manager class should have a method manage() that describes the work the manager does. Instantiate a Manager object and call all methods (introduce(), work(), and manage()).\n",
    "Expected Output:\n",
    "Hello, my name is John and I am 35 years old.\n",
    "Employee M123 is working in HR department.\n",
    "Manager John is managing the team in the HR department."
   ]
  },
  {
   "cell_type": "code",
   "execution_count": 3,
   "id": "99338b7f",
   "metadata": {},
   "outputs": [
    {
     "name": "stdout",
     "output_type": "stream",
     "text": [
      "Hello, my name is Ali and I am 35 years old.\n",
      "Employee E0001 is working in Finance department.\n",
      "Manager Ali is managing the team in the Finance department.\n"
     ]
    }
   ],
   "source": [
    "##Solution #1\n",
    "\n",
    "#person class\n",
    "class Person:\n",
    "    def __init__(self, name, age):\n",
    "        self.name = name\n",
    "        self.age = age\n",
    "    \n",
    "    def introduce(self):\n",
    "        print(f\"Hello, my name is {self.name} and I am {self.age} years old.\")\n",
    "\n",
    "#employee class\n",
    "class Employee:\n",
    "    def __init__(self, employee_id, department):\n",
    "        self.employee_id = employee_id\n",
    "        self.department = department\n",
    "    \n",
    "    def work(self):\n",
    "        print(f\"Employee {self.employee_id} is working in {self.department} department.\")\n",
    "        \n",
    "#Manager class\n",
    "class Manager(Person, Employee):\n",
    "    def __init__(self, name, age, employee_id, department):\n",
    "        Person.__init__(self, name, age)\n",
    "        Employee.__init__(self, employee_id, department)\n",
    "    \n",
    "    def manage(self):\n",
    "        print(f\"Manager {self.name} is managing the team in the {self.department} department.\")\n",
    "\n",
    "# Instantiate Manager object and call all methods\n",
    "manager = Manager(\"Ali\", 35, \"E0001\", \"Finance\")\n",
    "manager.introduce()\n",
    "manager.work()\n",
    "manager.manage()"
   ]
  },
  {
   "cell_type": "markdown",
   "id": "acc4ce87",
   "metadata": {},
   "source": [
    "### Qno2: Create a class Greeting with a method greet() that can handle different numbers of arguments.\n",
    "If no argument is passed, it should print \"Hello!\".\n",
    "If one argument (a name) is passed, it should print \"Hello, !\".\n",
    "If two arguments (a name and a greeting) are passed, it should print the greeting with the name (e.g., \"Good morning, !\").\n",
    "Simulate method overloading using default arguments or variable-length arguments, and demonstrate the polymorphic behavior by calling greet() with different numbers of arguments.\n",
    "\n",
    "Expected Output:\n",
    "\n",
    "Hello!\n",
    "Hello, John!\n",
    "Good morning, John!"
   ]
  },
  {
   "cell_type": "code",
   "execution_count": 4,
   "id": "9bec112a",
   "metadata": {},
   "outputs": [
    {
     "name": "stdout",
     "output_type": "stream",
     "text": [
      "Hello!\n",
      "Hello, ALi!\n",
      "Good morning, Ahmed!\n"
     ]
    }
   ],
   "source": [
    "#SOlution 2\n",
    "\n",
    "class Greeting:\n",
    "    def greet(self, *args):\n",
    "        if len(args) == 0:\n",
    "            print(\"Hello!\")\n",
    "        elif len(args) == 1:\n",
    "            name = args[0]\n",
    "            print(f\"Hello, {name}!\")\n",
    "        elif len(args) == 2:\n",
    "            name, custom_greeting = args\n",
    "            print(f\"{custom_greeting}, {name}!\")\n",
    "        else:\n",
    "            print(\"Too many arguments provided!\")\n",
    "\n",
    "# Create an instance of Greeting\n",
    "greeter = Greeting()\n",
    "\n",
    "# Demonstrate polymorphic behavior\n",
    "greeter.greet()                     # No argument\n",
    "greeter.greet(\"ALi\")              # One argument\n",
    "greeter.greet(\"Ahmed\", \"Good morning\")  # Two arguments"
   ]
  },
  {
   "cell_type": "markdown",
   "id": "f8387cc9",
   "metadata": {},
   "source": [
    "### Qno3:Create a class SecuritySystem to manage a Security PIN. The class should have:\n",
    "A private attribute __pin to store the PIN.\n",
    "A method validate_pin(pin) that checks if the input PIN matches the stored one.\n",
    "A method change_pin(old_pin, new_pin) to allow the user to change their PIN. The method should:\n",
    "Ensure the old PIN is correct.\n",
    "Ensure the new PIN is a 4-digit number.\n",
    "Demonstrate the following:\n",
    "\n",
    "Validate the PIN.\n",
    "Change the PIN with correct and incorrect old PINs, and valid/invalid new PINs.\n",
    "Expected Output:\n",
    "\n",
    "PIN validated successfully.\n",
    "Invalid PIN.\n",
    "PIN changed successfully.\n",
    "New PIN must be a 4-digit number.\n",
    "Incorrect old PIN. PIN not changed."
   ]
  },
  {
   "cell_type": "code",
   "execution_count": 8,
   "id": "76dc50dc",
   "metadata": {},
   "outputs": [
    {
     "name": "stdout",
     "output_type": "stream",
     "text": [
      "PIN validated successfully.\n",
      "Invalid PIN.\n",
      "PIN changed successfully.\n",
      "Incorrect old PIN. PIN not changed.\n",
      "Incorrect old PIN. PIN not changed.\n"
     ]
    }
   ],
   "source": [
    "class SecuritySystem:\n",
    "    def __init__(self, pin):\n",
    "        self.__pin = pin \n",
    "        \n",
    "    def validate_pin(self, pin):\n",
    "        if pin == self.__pin:\n",
    "            print(\"PIN validated successfully.\")\n",
    "            return True\n",
    "        else:\n",
    "            print(\"Invalid PIN.\")\n",
    "            return False\n",
    "\n",
    "    def change_pin(self, old_pin, new_pin):\n",
    "        if old_pin != self.__pin:\n",
    "            print(\"Incorrect old PIN. PIN not changed.\")\n",
    "            return\n",
    "        if not (isinstance(new_pin, int) and 1000 <= new_pin <= 9999):\n",
    "            print(\"New PIN must be a 4-digit number.\")\n",
    "            return\n",
    "        self.__pin = new_pin\n",
    "        print(\"PIN changed successfully.\")\n",
    "\n",
    "\n",
    "# Demonstration\n",
    "security = SecuritySystem(0000)\n",
    "\n",
    "# Validate the correct PIN\n",
    "security.validate_pin(0000)\n",
    "\n",
    "# Validate an incorrect PIN\n",
    "security.validate_pin(1111)\n",
    "\n",
    "# Try changing the PIN with correct old PIN and valid new PIN\n",
    "security.change_pin(0000, 1122)\n",
    "\n",
    "# Try changing the PIN with valid old PIN but invalid new PIN\n",
    "security.change_pin(5678, 999)  # not a 4-digit PIN\n",
    "\n",
    "# Try changing the PIN with incorrect old PIN\n",
    "security.change_pin(1234, 8888)"
   ]
  },
  {
   "cell_type": "markdown",
   "id": "6d3ce889",
   "metadata": {},
   "source": [
    "### Qno4: Use abstraction to model different geometric shapes such as circle and rectangle.\n",
    "Instructions:\n",
    "\n",
    "Create an abstract class Shape with a method area to calculate the area.\n",
    "Create concrete classes Circle and Rectangle that implement the area method.\n",
    "Create instances of these shapes and calculate their areas.\n",
    "Expected Output:\n",
    "\n",
    "Area of Circle: 78.5\n",
    "Area of Rectangle: 24"
   ]
  },
  {
   "cell_type": "code",
   "execution_count": 9,
   "id": "a4ef615e",
   "metadata": {},
   "outputs": [
    {
     "name": "stdout",
     "output_type": "stream",
     "text": [
      "Area of Circle: 78.5\n",
      "Area of Rectangle: 24\n"
     ]
    }
   ],
   "source": [
    "from abc import ABC, abstractmethod\n",
    "import math\n",
    "\n",
    "# Abstract class\n",
    "class Shape(ABC):\n",
    "    @abstractmethod\n",
    "    def area(self):\n",
    "        pass\n",
    "\n",
    "# Concrete class for Circle\n",
    "class Circle(Shape):\n",
    "    def __init__(self, radius):\n",
    "        self.radius = radius\n",
    "\n",
    "    def area(self):\n",
    "        return round(math.pi * self.radius ** 2, 1)\n",
    "\n",
    "# Concrete class for Rectangle\n",
    "class Rectangle(Shape):\n",
    "    def __init__(self, length, width):\n",
    "        self.length = length\n",
    "        self.width = width\n",
    "\n",
    "    def area(self):\n",
    "        return self.length * self.width\n",
    "\n",
    "# Create instances and calculate areas\n",
    "circle = Circle(5)\n",
    "rectangle = Rectangle(6, 4)\n",
    "\n",
    "print(f\"Area of Circle: {circle.area()}\")\n",
    "print(f\"Area of Rectangle: {rectangle.area()}\")"
   ]
  },
  {
   "cell_type": "markdown",
   "id": "4fdd7604",
   "metadata": {},
   "source": [
    "### Qno5:Create a class Notification with a method send(), which prints \"Sending notification\". Then, create two subclasses:\n",
    "EmailNotification: Override the send() method to print \"Sending email\".\n",
    "\n",
    "SMSNotification: Override the send() method to print \"Sending SMS\".\n",
    "\n",
    "Demonstrate method overriding calling send() on instances of EmailNotification and SMSNotification."
   ]
  },
  {
   "cell_type": "code",
   "execution_count": 10,
   "id": "6989f746",
   "metadata": {},
   "outputs": [
    {
     "name": "stdout",
     "output_type": "stream",
     "text": [
      "Sending email\n",
      "Sending SMS\n"
     ]
    }
   ],
   "source": [
    "#Solution\n",
    "class Notification:\n",
    "    def send(self):\n",
    "        print(\"Sending notification\")\n",
    "\n",
    "class EmailNotification(Notification):\n",
    "    def send(self):\n",
    "        print(\"Sending email\")\n",
    "\n",
    "class SMSNotification(Notification):\n",
    "    def send(self):\n",
    "        print(\"Sending SMS\")\n",
    "\n",
    "# Demonstration\n",
    "email = EmailNotification()\n",
    "sms = SMSNotification()\n",
    "\n",
    "email.send()  # Output: Sending email\n",
    "sms.send()    # Output: Sending SMS"
   ]
  },
  {
   "cell_type": "code",
   "execution_count": null,
   "id": "715eff10",
   "metadata": {},
   "outputs": [],
   "source": []
  }
 ],
 "metadata": {
  "kernelspec": {
   "display_name": "Python 3 (ipykernel)",
   "language": "python",
   "name": "python3"
  },
  "language_info": {
   "codemirror_mode": {
    "name": "ipython",
    "version": 3
   },
   "file_extension": ".py",
   "mimetype": "text/x-python",
   "name": "python",
   "nbconvert_exporter": "python",
   "pygments_lexer": "ipython3",
   "version": "3.9.7"
  }
 },
 "nbformat": 4,
 "nbformat_minor": 5
}
