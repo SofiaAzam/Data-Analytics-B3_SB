{
 "cells": [
  {
   "cell_type": "markdown",
   "id": "32c9ce55",
   "metadata": {},
   "source": [
    "# Assingment no 9"
   ]
  },
  {
   "cell_type": "code",
   "execution_count": 1,
   "id": "261049de",
   "metadata": {},
   "outputs": [],
   "source": [
    "import pandas as pd\n",
    "import numpy as np\n",
    "import seaborn as sns\n",
    "import matplotlib.pyplot as plt\n",
    "import warnings\n",
    "warnings.filterwarnings('ignore')"
   ]
  },
  {
   "cell_type": "code",
   "execution_count": 2,
   "id": "cd344e14",
   "metadata": {},
   "outputs": [
    {
     "data": {
      "text/html": [
       "<div>\n",
       "<style scoped>\n",
       "    .dataframe tbody tr th:only-of-type {\n",
       "        vertical-align: middle;\n",
       "    }\n",
       "\n",
       "    .dataframe tbody tr th {\n",
       "        vertical-align: top;\n",
       "    }\n",
       "\n",
       "    .dataframe thead th {\n",
       "        text-align: right;\n",
       "    }\n",
       "</style>\n",
       "<table border=\"1\" class=\"dataframe\">\n",
       "  <thead>\n",
       "    <tr style=\"text-align: right;\">\n",
       "      <th></th>\n",
       "      <th>ID</th>\n",
       "      <th>Name</th>\n",
       "      <th>Age</th>\n",
       "      <th>Gender</th>\n",
       "      <th>Location</th>\n",
       "      <th>School_Grade</th>\n",
       "      <th>Daily_Usage_Hours</th>\n",
       "      <th>Sleep_Hours</th>\n",
       "      <th>Academic_Performance</th>\n",
       "      <th>Social_Interactions</th>\n",
       "      <th>...</th>\n",
       "      <th>Screen_Time_Before_Bed</th>\n",
       "      <th>Phone_Checks_Per_Day</th>\n",
       "      <th>Apps_Used_Daily</th>\n",
       "      <th>Time_on_Social_Media</th>\n",
       "      <th>Time_on_Gaming</th>\n",
       "      <th>Time_on_Education</th>\n",
       "      <th>Phone_Usage_Purpose</th>\n",
       "      <th>Family_Communication</th>\n",
       "      <th>Weekend_Usage_Hours</th>\n",
       "      <th>Addiction_Level</th>\n",
       "    </tr>\n",
       "  </thead>\n",
       "  <tbody>\n",
       "    <tr>\n",
       "      <th>0</th>\n",
       "      <td>1</td>\n",
       "      <td>Shannon Francis</td>\n",
       "      <td>13</td>\n",
       "      <td>Female</td>\n",
       "      <td>Hansonfort</td>\n",
       "      <td>9th</td>\n",
       "      <td>4.0</td>\n",
       "      <td>6.1</td>\n",
       "      <td>78</td>\n",
       "      <td>5</td>\n",
       "      <td>...</td>\n",
       "      <td>NaN</td>\n",
       "      <td>86</td>\n",
       "      <td>19</td>\n",
       "      <td>3.6</td>\n",
       "      <td>1.7</td>\n",
       "      <td>1.2</td>\n",
       "      <td>Browsing</td>\n",
       "      <td>4</td>\n",
       "      <td>8.7</td>\n",
       "      <td>10.0</td>\n",
       "    </tr>\n",
       "    <tr>\n",
       "      <th>1</th>\n",
       "      <td>2</td>\n",
       "      <td>Scott Rodriguez</td>\n",
       "      <td>17</td>\n",
       "      <td>Female</td>\n",
       "      <td>Theodorefort</td>\n",
       "      <td>7th</td>\n",
       "      <td>5.5</td>\n",
       "      <td>6.5</td>\n",
       "      <td>70</td>\n",
       "      <td>5</td>\n",
       "      <td>...</td>\n",
       "      <td>0.9</td>\n",
       "      <td>96</td>\n",
       "      <td>9</td>\n",
       "      <td>1.1</td>\n",
       "      <td>4.0</td>\n",
       "      <td>1.8</td>\n",
       "      <td>Browsing</td>\n",
       "      <td>2</td>\n",
       "      <td>5.3</td>\n",
       "      <td>10.0</td>\n",
       "    </tr>\n",
       "    <tr>\n",
       "      <th>2</th>\n",
       "      <td>3</td>\n",
       "      <td>Adrian Knox</td>\n",
       "      <td>13</td>\n",
       "      <td>Other</td>\n",
       "      <td>Lindseystad</td>\n",
       "      <td>11th</td>\n",
       "      <td>5.8</td>\n",
       "      <td>5.5</td>\n",
       "      <td>93</td>\n",
       "      <td>8</td>\n",
       "      <td>...</td>\n",
       "      <td>0.5</td>\n",
       "      <td>137</td>\n",
       "      <td>8</td>\n",
       "      <td>0.3</td>\n",
       "      <td>1.5</td>\n",
       "      <td>0.4</td>\n",
       "      <td>Education</td>\n",
       "      <td>6</td>\n",
       "      <td>5.7</td>\n",
       "      <td>9.2</td>\n",
       "    </tr>\n",
       "    <tr>\n",
       "      <th>3</th>\n",
       "      <td>4</td>\n",
       "      <td>Brittany Hamilton</td>\n",
       "      <td>18</td>\n",
       "      <td>Female</td>\n",
       "      <td>West Anthony</td>\n",
       "      <td>12th</td>\n",
       "      <td>3.1</td>\n",
       "      <td>3.9</td>\n",
       "      <td>78</td>\n",
       "      <td>8</td>\n",
       "      <td>...</td>\n",
       "      <td>1.4</td>\n",
       "      <td>128</td>\n",
       "      <td>7</td>\n",
       "      <td>3.1</td>\n",
       "      <td>1.6</td>\n",
       "      <td>0.8</td>\n",
       "      <td>Social Media</td>\n",
       "      <td>8</td>\n",
       "      <td>3.0</td>\n",
       "      <td>9.8</td>\n",
       "    </tr>\n",
       "    <tr>\n",
       "      <th>4</th>\n",
       "      <td>5</td>\n",
       "      <td>Steven Smith</td>\n",
       "      <td>14</td>\n",
       "      <td>Other</td>\n",
       "      <td>Port Lindsaystad</td>\n",
       "      <td>9th</td>\n",
       "      <td>2.5</td>\n",
       "      <td>6.7</td>\n",
       "      <td>56</td>\n",
       "      <td>4</td>\n",
       "      <td>...</td>\n",
       "      <td>1.0</td>\n",
       "      <td>96</td>\n",
       "      <td>20</td>\n",
       "      <td>2.6</td>\n",
       "      <td>0.9</td>\n",
       "      <td>1.1</td>\n",
       "      <td>Gaming</td>\n",
       "      <td>10</td>\n",
       "      <td>3.7</td>\n",
       "      <td>8.6</td>\n",
       "    </tr>\n",
       "    <tr>\n",
       "      <th>...</th>\n",
       "      <td>...</td>\n",
       "      <td>...</td>\n",
       "      <td>...</td>\n",
       "      <td>...</td>\n",
       "      <td>...</td>\n",
       "      <td>...</td>\n",
       "      <td>...</td>\n",
       "      <td>...</td>\n",
       "      <td>...</td>\n",
       "      <td>...</td>\n",
       "      <td>...</td>\n",
       "      <td>...</td>\n",
       "      <td>...</td>\n",
       "      <td>...</td>\n",
       "      <td>...</td>\n",
       "      <td>...</td>\n",
       "      <td>...</td>\n",
       "      <td>...</td>\n",
       "      <td>...</td>\n",
       "      <td>...</td>\n",
       "      <td>...</td>\n",
       "    </tr>\n",
       "    <tr>\n",
       "      <th>2995</th>\n",
       "      <td>2996</td>\n",
       "      <td>Jesus Yates</td>\n",
       "      <td>16</td>\n",
       "      <td>Female</td>\n",
       "      <td>New Jennifer</td>\n",
       "      <td>12th</td>\n",
       "      <td>3.9</td>\n",
       "      <td>6.4</td>\n",
       "      <td>53</td>\n",
       "      <td>4</td>\n",
       "      <td>...</td>\n",
       "      <td>0.3</td>\n",
       "      <td>80</td>\n",
       "      <td>15</td>\n",
       "      <td>2.7</td>\n",
       "      <td>1.8</td>\n",
       "      <td>1.0</td>\n",
       "      <td>Other</td>\n",
       "      <td>8</td>\n",
       "      <td>9.4</td>\n",
       "      <td>9.8</td>\n",
       "    </tr>\n",
       "    <tr>\n",
       "      <th>2996</th>\n",
       "      <td>2997</td>\n",
       "      <td>Bethany Murray</td>\n",
       "      <td>13</td>\n",
       "      <td>Female</td>\n",
       "      <td>Richardport</td>\n",
       "      <td>8th</td>\n",
       "      <td>3.6</td>\n",
       "      <td>7.3</td>\n",
       "      <td>93</td>\n",
       "      <td>5</td>\n",
       "      <td>...</td>\n",
       "      <td>0.9</td>\n",
       "      <td>45</td>\n",
       "      <td>8</td>\n",
       "      <td>3.1</td>\n",
       "      <td>0.0</td>\n",
       "      <td>0.3</td>\n",
       "      <td>Gaming</td>\n",
       "      <td>9</td>\n",
       "      <td>5.2</td>\n",
       "      <td>5.5</td>\n",
       "    </tr>\n",
       "    <tr>\n",
       "      <th>2997</th>\n",
       "      <td>2998</td>\n",
       "      <td>Norman Hughes</td>\n",
       "      <td>14</td>\n",
       "      <td>Other</td>\n",
       "      <td>Rebeccaton</td>\n",
       "      <td>7th</td>\n",
       "      <td>3.2</td>\n",
       "      <td>6.5</td>\n",
       "      <td>98</td>\n",
       "      <td>1</td>\n",
       "      <td>...</td>\n",
       "      <td>0.2</td>\n",
       "      <td>51</td>\n",
       "      <td>13</td>\n",
       "      <td>2.4</td>\n",
       "      <td>0.2</td>\n",
       "      <td>2.4</td>\n",
       "      <td>Social Media</td>\n",
       "      <td>9</td>\n",
       "      <td>5.9</td>\n",
       "      <td>6.2</td>\n",
       "    </tr>\n",
       "    <tr>\n",
       "      <th>2998</th>\n",
       "      <td>2999</td>\n",
       "      <td>Barbara Hinton</td>\n",
       "      <td>17</td>\n",
       "      <td>Female</td>\n",
       "      <td>Ramirezmouth</td>\n",
       "      <td>9th</td>\n",
       "      <td>6.7</td>\n",
       "      <td>7.5</td>\n",
       "      <td>67</td>\n",
       "      <td>3</td>\n",
       "      <td>...</td>\n",
       "      <td>1.6</td>\n",
       "      <td>125</td>\n",
       "      <td>17</td>\n",
       "      <td>1.7</td>\n",
       "      <td>2.6</td>\n",
       "      <td>1.5</td>\n",
       "      <td>Browsing</td>\n",
       "      <td>4</td>\n",
       "      <td>6.1</td>\n",
       "      <td>10.0</td>\n",
       "    </tr>\n",
       "    <tr>\n",
       "      <th>2999</th>\n",
       "      <td>3000</td>\n",
       "      <td>Curtis Johnson</td>\n",
       "      <td>17</td>\n",
       "      <td>Male</td>\n",
       "      <td>Lake Alexander</td>\n",
       "      <td>10th</td>\n",
       "      <td>3.5</td>\n",
       "      <td>6.9</td>\n",
       "      <td>79</td>\n",
       "      <td>4</td>\n",
       "      <td>...</td>\n",
       "      <td>0.6</td>\n",
       "      <td>117</td>\n",
       "      <td>8</td>\n",
       "      <td>0.0</td>\n",
       "      <td>2.3</td>\n",
       "      <td>0.1</td>\n",
       "      <td>Education</td>\n",
       "      <td>7</td>\n",
       "      <td>5.1</td>\n",
       "      <td>6.3</td>\n",
       "    </tr>\n",
       "  </tbody>\n",
       "</table>\n",
       "<p>3000 rows × 25 columns</p>\n",
       "</div>"
      ],
      "text/plain": [
       "        ID               Name  Age  Gender          Location School_Grade  \\\n",
       "0        1    Shannon Francis   13  Female        Hansonfort          9th   \n",
       "1        2    Scott Rodriguez   17  Female      Theodorefort          7th   \n",
       "2        3        Adrian Knox   13   Other       Lindseystad         11th   \n",
       "3        4  Brittany Hamilton   18  Female      West Anthony         12th   \n",
       "4        5       Steven Smith   14   Other  Port Lindsaystad          9th   \n",
       "...    ...                ...  ...     ...               ...          ...   \n",
       "2995  2996        Jesus Yates   16  Female      New Jennifer         12th   \n",
       "2996  2997     Bethany Murray   13  Female       Richardport          8th   \n",
       "2997  2998      Norman Hughes   14   Other        Rebeccaton          7th   \n",
       "2998  2999     Barbara Hinton   17  Female      Ramirezmouth          9th   \n",
       "2999  3000     Curtis Johnson   17    Male    Lake Alexander         10th   \n",
       "\n",
       "      Daily_Usage_Hours  Sleep_Hours  Academic_Performance  \\\n",
       "0                   4.0          6.1                    78   \n",
       "1                   5.5          6.5                    70   \n",
       "2                   5.8          5.5                    93   \n",
       "3                   3.1          3.9                    78   \n",
       "4                   2.5          6.7                    56   \n",
       "...                 ...          ...                   ...   \n",
       "2995                3.9          6.4                    53   \n",
       "2996                3.6          7.3                    93   \n",
       "2997                3.2          6.5                    98   \n",
       "2998                6.7          7.5                    67   \n",
       "2999                3.5          6.9                    79   \n",
       "\n",
       "      Social_Interactions  ...  Screen_Time_Before_Bed  Phone_Checks_Per_Day  \\\n",
       "0                       5  ...                     NaN                    86   \n",
       "1                       5  ...                     0.9                    96   \n",
       "2                       8  ...                     0.5                   137   \n",
       "3                       8  ...                     1.4                   128   \n",
       "4                       4  ...                     1.0                    96   \n",
       "...                   ...  ...                     ...                   ...   \n",
       "2995                    4  ...                     0.3                    80   \n",
       "2996                    5  ...                     0.9                    45   \n",
       "2997                    1  ...                     0.2                    51   \n",
       "2998                    3  ...                     1.6                   125   \n",
       "2999                    4  ...                     0.6                   117   \n",
       "\n",
       "      Apps_Used_Daily  Time_on_Social_Media  Time_on_Gaming  \\\n",
       "0                  19                   3.6             1.7   \n",
       "1                   9                   1.1             4.0   \n",
       "2                   8                   0.3             1.5   \n",
       "3                   7                   3.1             1.6   \n",
       "4                  20                   2.6             0.9   \n",
       "...               ...                   ...             ...   \n",
       "2995               15                   2.7             1.8   \n",
       "2996                8                   3.1             0.0   \n",
       "2997               13                   2.4             0.2   \n",
       "2998               17                   1.7             2.6   \n",
       "2999                8                   0.0             2.3   \n",
       "\n",
       "      Time_on_Education  Phone_Usage_Purpose  Family_Communication  \\\n",
       "0                   1.2             Browsing                     4   \n",
       "1                   1.8             Browsing                     2   \n",
       "2                   0.4            Education                     6   \n",
       "3                   0.8         Social Media                     8   \n",
       "4                   1.1               Gaming                    10   \n",
       "...                 ...                  ...                   ...   \n",
       "2995                1.0                Other                     8   \n",
       "2996                0.3               Gaming                     9   \n",
       "2997                2.4         Social Media                     9   \n",
       "2998                1.5             Browsing                     4   \n",
       "2999                0.1            Education                     7   \n",
       "\n",
       "      Weekend_Usage_Hours  Addiction_Level  \n",
       "0                     8.7             10.0  \n",
       "1                     5.3             10.0  \n",
       "2                     5.7              9.2  \n",
       "3                     3.0              9.8  \n",
       "4                     3.7              8.6  \n",
       "...                   ...              ...  \n",
       "2995                  9.4              9.8  \n",
       "2996                  5.2              5.5  \n",
       "2997                  5.9              6.2  \n",
       "2998                  6.1             10.0  \n",
       "2999                  5.1              6.3  \n",
       "\n",
       "[3000 rows x 25 columns]"
      ]
     },
     "execution_count": 2,
     "metadata": {},
     "output_type": "execute_result"
    }
   ],
   "source": [
    "df=pd.read_csv('teen_phone_addiction_dataset.csv')\n",
    "df"
   ]
  },
  {
   "cell_type": "markdown",
   "id": "1a70fbce",
   "metadata": {},
   "source": [
    "### Question 1\n",
    "##### Check Below\n",
    "#####  DataFrame Shape\n",
    "#####  Data Types\n",
    "##### Duplicate records (remove if found)\n",
    "##### Missing/Null Values (replace with median value)"
   ]
  },
  {
   "cell_type": "code",
   "execution_count": 3,
   "id": "9e1dd6f3",
   "metadata": {},
   "outputs": [
    {
     "data": {
      "text/plain": [
       "(3000, 25)"
      ]
     },
     "execution_count": 3,
     "metadata": {},
     "output_type": "execute_result"
    }
   ],
   "source": [
    "# Checking dataframe shape\n",
    "df.shape"
   ]
  },
  {
   "cell_type": "raw",
   "id": "e9bedb31",
   "metadata": {},
   "source": [
    "The results shows that data has 3000 rows and 25 columns"
   ]
  },
  {
   "cell_type": "code",
   "execution_count": 4,
   "id": "659ab3de",
   "metadata": {},
   "outputs": [
    {
     "name": "stdout",
     "output_type": "stream",
     "text": [
      "<class 'pandas.core.frame.DataFrame'>\n",
      "RangeIndex: 3000 entries, 0 to 2999\n",
      "Data columns (total 25 columns):\n",
      " #   Column                  Non-Null Count  Dtype  \n",
      "---  ------                  --------------  -----  \n",
      " 0   ID                      3000 non-null   int64  \n",
      " 1   Name                    3000 non-null   object \n",
      " 2   Age                     3000 non-null   int64  \n",
      " 3   Gender                  3000 non-null   object \n",
      " 4   Location                3000 non-null   object \n",
      " 5   School_Grade            3000 non-null   object \n",
      " 6   Daily_Usage_Hours       2995 non-null   float64\n",
      " 7   Sleep_Hours             3000 non-null   float64\n",
      " 8   Academic_Performance    3000 non-null   int64  \n",
      " 9   Social_Interactions     3000 non-null   int64  \n",
      " 10  Exercise_Hours          2992 non-null   float64\n",
      " 11  Anxiety_Level           3000 non-null   int64  \n",
      " 12  Depression_Level        3000 non-null   int64  \n",
      " 13  Self_Esteem             3000 non-null   int64  \n",
      " 14  Parental_Control        3000 non-null   int64  \n",
      " 15  Screen_Time_Before_Bed  2985 non-null   float64\n",
      " 16  Phone_Checks_Per_Day    3000 non-null   int64  \n",
      " 17  Apps_Used_Daily         3000 non-null   int64  \n",
      " 18  Time_on_Social_Media    3000 non-null   float64\n",
      " 19  Time_on_Gaming          3000 non-null   float64\n",
      " 20  Time_on_Education       3000 non-null   float64\n",
      " 21  Phone_Usage_Purpose     3000 non-null   object \n",
      " 22  Family_Communication    3000 non-null   int64  \n",
      " 23  Weekend_Usage_Hours     3000 non-null   float64\n",
      " 24  Addiction_Level         3000 non-null   float64\n",
      "dtypes: float64(9), int64(11), object(5)\n",
      "memory usage: 586.1+ KB\n"
     ]
    }
   ],
   "source": [
    "#checking Data Types\n",
    "df.info()"
   ]
  },
  {
   "cell_type": "code",
   "execution_count": 5,
   "id": "5494d193",
   "metadata": {},
   "outputs": [
    {
     "data": {
      "text/plain": [
       "0"
      ]
     },
     "execution_count": 5,
     "metadata": {},
     "output_type": "execute_result"
    }
   ],
   "source": [
    "## checking duplicate records\n",
    "df.duplicated().sum()"
   ]
  },
  {
   "cell_type": "raw",
   "id": "61a6dbb7",
   "metadata": {},
   "source": [
    "this shows that there is no duplicate record"
   ]
  },
  {
   "cell_type": "code",
   "execution_count": 6,
   "id": "d7d90390",
   "metadata": {},
   "outputs": [
    {
     "data": {
      "text/plain": [
       "ID                         0\n",
       "Name                       0\n",
       "Age                        0\n",
       "Gender                     0\n",
       "Location                   0\n",
       "School_Grade               0\n",
       "Daily_Usage_Hours          5\n",
       "Sleep_Hours                0\n",
       "Academic_Performance       0\n",
       "Social_Interactions        0\n",
       "Exercise_Hours             8\n",
       "Anxiety_Level              0\n",
       "Depression_Level           0\n",
       "Self_Esteem                0\n",
       "Parental_Control           0\n",
       "Screen_Time_Before_Bed    15\n",
       "Phone_Checks_Per_Day       0\n",
       "Apps_Used_Daily            0\n",
       "Time_on_Social_Media       0\n",
       "Time_on_Gaming             0\n",
       "Time_on_Education          0\n",
       "Phone_Usage_Purpose        0\n",
       "Family_Communication       0\n",
       "Weekend_Usage_Hours        0\n",
       "Addiction_Level            0\n",
       "dtype: int64"
      ]
     },
     "execution_count": 6,
     "metadata": {},
     "output_type": "execute_result"
    }
   ],
   "source": [
    "# checking for missing and null values.\n",
    "df.isnull().sum()"
   ]
  },
  {
   "cell_type": "raw",
   "id": "bbbf31c8",
   "metadata": {},
   "source": [
    "there are 5 missing values in daily_usage_hours and 15 missing values in screen_time_before bed"
   ]
  },
  {
   "cell_type": "code",
   "execution_count": 7,
   "id": "6e92726a",
   "metadata": {},
   "outputs": [
    {
     "data": {
      "text/plain": [
       "1.0"
      ]
     },
     "execution_count": 7,
     "metadata": {},
     "output_type": "execute_result"
    }
   ],
   "source": [
    "#Taking median to replace missing values with median\n",
    "df['Screen_Time_Before_Bed'].median()"
   ]
  },
  {
   "cell_type": "code",
   "execution_count": 8,
   "id": "95a8c4d4",
   "metadata": {},
   "outputs": [
    {
     "data": {
      "text/plain": [
       "5.0"
      ]
     },
     "execution_count": 8,
     "metadata": {},
     "output_type": "execute_result"
    }
   ],
   "source": [
    "df['Daily_Usage_Hours'].median()"
   ]
  },
  {
   "cell_type": "code",
   "execution_count": 9,
   "id": "bef0ce45",
   "metadata": {},
   "outputs": [],
   "source": [
    "#Replacing missing values with median values\n",
    "df['Daily_Usage_Hours'].fillna(df['Daily_Usage_Hours'].median(), inplace=True)\n"
   ]
  },
  {
   "cell_type": "code",
   "execution_count": 10,
   "id": "457eef6e",
   "metadata": {},
   "outputs": [],
   "source": [
    "df['Screen_Time_Before_Bed'].fillna(df['Screen_Time_Before_Bed'].median(), inplace=True)"
   ]
  },
  {
   "cell_type": "code",
   "execution_count": 11,
   "id": "94a37eb3",
   "metadata": {},
   "outputs": [
    {
     "data": {
      "text/plain": [
       "ID                        0\n",
       "Name                      0\n",
       "Age                       0\n",
       "Gender                    0\n",
       "Location                  0\n",
       "School_Grade              0\n",
       "Daily_Usage_Hours         0\n",
       "Sleep_Hours               0\n",
       "Academic_Performance      0\n",
       "Social_Interactions       0\n",
       "Exercise_Hours            8\n",
       "Anxiety_Level             0\n",
       "Depression_Level          0\n",
       "Self_Esteem               0\n",
       "Parental_Control          0\n",
       "Screen_Time_Before_Bed    0\n",
       "Phone_Checks_Per_Day      0\n",
       "Apps_Used_Daily           0\n",
       "Time_on_Social_Media      0\n",
       "Time_on_Gaming            0\n",
       "Time_on_Education         0\n",
       "Phone_Usage_Purpose       0\n",
       "Family_Communication      0\n",
       "Weekend_Usage_Hours       0\n",
       "Addiction_Level           0\n",
       "dtype: int64"
      ]
     },
     "execution_count": 11,
     "metadata": {},
     "output_type": "execute_result"
    }
   ],
   "source": [
    "df.isnull().sum()"
   ]
  },
  {
   "cell_type": "raw",
   "id": "0885fe13",
   "metadata": {},
   "source": [
    "Now it is clear that there is no missing value in the data"
   ]
  },
  {
   "cell_type": "markdown",
   "id": "6cb08883",
   "metadata": {},
   "source": [
    "### Question 2:\n",
    "##### How does time spent on social media compare to time spent on education among teens?\n",
    "##### Plot side-by-side histograms of Time on Social Media and Time on Education\n",
    "##### Find and compare the median time for both.\n",
    "##### Write simple comments to explain what the data shows"
   ]
  },
  {
   "cell_type": "markdown",
   "id": "1ba32503",
   "metadata": {},
   "source": [
    "For comparing this i will use two approaches.i will first statistics to get statistcal values for comparision and then i will use boxplot to check my result."
   ]
  },
  {
   "cell_type": "code",
   "execution_count": 12,
   "id": "b5fcbee6",
   "metadata": {},
   "outputs": [
    {
     "data": {
      "text/html": [
       "<div>\n",
       "<style scoped>\n",
       "    .dataframe tbody tr th:only-of-type {\n",
       "        vertical-align: middle;\n",
       "    }\n",
       "\n",
       "    .dataframe tbody tr th {\n",
       "        vertical-align: top;\n",
       "    }\n",
       "\n",
       "    .dataframe thead th {\n",
       "        text-align: right;\n",
       "    }\n",
       "</style>\n",
       "<table border=\"1\" class=\"dataframe\">\n",
       "  <thead>\n",
       "    <tr style=\"text-align: right;\">\n",
       "      <th></th>\n",
       "      <th>Time_on_Social_Media</th>\n",
       "      <th>Time_on_Education</th>\n",
       "    </tr>\n",
       "  </thead>\n",
       "  <tbody>\n",
       "    <tr>\n",
       "      <th>count</th>\n",
       "      <td>3000.000000</td>\n",
       "      <td>3000.000000</td>\n",
       "    </tr>\n",
       "    <tr>\n",
       "      <th>mean</th>\n",
       "      <td>2.499233</td>\n",
       "      <td>1.016333</td>\n",
       "    </tr>\n",
       "    <tr>\n",
       "      <th>std</th>\n",
       "      <td>0.988201</td>\n",
       "      <td>0.648341</td>\n",
       "    </tr>\n",
       "    <tr>\n",
       "      <th>min</th>\n",
       "      <td>0.000000</td>\n",
       "      <td>0.000000</td>\n",
       "    </tr>\n",
       "    <tr>\n",
       "      <th>25%</th>\n",
       "      <td>1.800000</td>\n",
       "      <td>0.500000</td>\n",
       "    </tr>\n",
       "    <tr>\n",
       "      <th>50%</th>\n",
       "      <td>2.500000</td>\n",
       "      <td>1.000000</td>\n",
       "    </tr>\n",
       "    <tr>\n",
       "      <th>75%</th>\n",
       "      <td>3.200000</td>\n",
       "      <td>1.500000</td>\n",
       "    </tr>\n",
       "    <tr>\n",
       "      <th>max</th>\n",
       "      <td>5.000000</td>\n",
       "      <td>3.000000</td>\n",
       "    </tr>\n",
       "  </tbody>\n",
       "</table>\n",
       "</div>"
      ],
      "text/plain": [
       "       Time_on_Social_Media  Time_on_Education\n",
       "count           3000.000000        3000.000000\n",
       "mean               2.499233           1.016333\n",
       "std                0.988201           0.648341\n",
       "min                0.000000           0.000000\n",
       "25%                1.800000           0.500000\n",
       "50%                2.500000           1.000000\n",
       "75%                3.200000           1.500000\n",
       "max                5.000000           3.000000"
      ]
     },
     "execution_count": 12,
     "metadata": {},
     "output_type": "execute_result"
    }
   ],
   "source": [
    "df[['Time_on_Social_Media', 'Time_on_Education']].describe()"
   ]
  },
  {
   "cell_type": "markdown",
   "id": "b4a62511",
   "metadata": {},
   "source": [
    "###### From the above statistical values i used mean to compare my result.Social media time has mean of 2.5 hrs whereas time spend on eductaion is 1.0 hours.which clearly shows less time is spend on education and more time on social median."
   ]
  },
  {
   "cell_type": "code",
   "execution_count": 13,
   "id": "1978a8fb",
   "metadata": {},
   "outputs": [
    {
     "data": {
      "image/png": "[encoded data removed]",
      "text/plain": [
       "<Figure size 432x288 with 1 Axes>"
      ]
     },
     "metadata": {
      "needs_background": "light"
     },
     "output_type": "display_data"
    }
   ],
   "source": [
    "#using blocplot to chck my result from above approach\n",
    "sns.boxplot(data=df[['Time_on_Social_Media', 'Time_on_Education']])\n",
    "plt.title('Time Spent Comparison')\n",
    "plt.ylabel('Hours')\n",
    "plt.show()"
   ]
  },
  {
   "cell_type": "markdown",
   "id": "19c50a4b",
   "metadata": {},
   "source": [
    "###### From the boxplot.again mean value for social media time is around 2.5 and for education it is around 1 which shows above calculted results are correct."
   ]
  },
  {
   "cell_type": "code",
   "execution_count": 14,
   "id": "ea49dd0f",
   "metadata": {},
   "outputs": [
    {
     "data": {
      "image/png": "[encoded data removed]",
      "text/plain": [
       "<Figure size 720x432 with 1 Axes>"
      ]
     },
     "metadata": {
      "needs_background": "light"
     },
     "output_type": "display_data"
    }
   ],
   "source": [
    "#plotting histogram\n",
    "plt.figure(figsize=(10, 6))\n",
    "sns.histplot(data=df[['Time_on_Social_Media', 'Time_on_Education']])\n",
    "plt.title('Time Spent Comparison')\n",
    "plt.xlabel('Hours')\n",
    "plt.ylabel('Frequency')\n",
    "plt.show()"
   ]
  },
  {
   "cell_type": "markdown",
   "id": "0a154a04",
   "metadata": {},
   "source": [
    "###### find and compare the median time for both.\n"
   ]
  },
  {
   "cell_type": "code",
   "execution_count": 15,
   "id": "c3fe0cab",
   "metadata": {},
   "outputs": [
    {
     "data": {
      "text/plain": [
       "2.5"
      ]
     },
     "execution_count": 15,
     "metadata": {},
     "output_type": "execute_result"
    }
   ],
   "source": [
    "df['Time_on_Social_Media'].median()"
   ]
  },
  {
   "cell_type": "code",
   "execution_count": 16,
   "id": "3544e541",
   "metadata": {},
   "outputs": [
    {
     "data": {
      "text/plain": [
       "1.0"
      ]
     },
     "execution_count": 16,
     "metadata": {},
     "output_type": "execute_result"
    }
   ],
   "source": [
    "df['Time_on_Education'].median()"
   ]
  },
  {
   "cell_type": "markdown",
   "id": "e7b18781",
   "metadata": {},
   "source": [
    "###### My comment to justify my results"
   ]
  },
  {
   "cell_type": "markdown",
   "id": "f6c502cc",
   "metadata": {},
   "source": [
    "###### The blue color shows time people spend on social media ,orange shows time spend on education whereas the grey color shows the overlapping time.i.ei the time people spend eually on social media and eductaion.From the histogra,,boxplot and statistical values it is clear that more time is spend on social media as compared to education."
   ]
  },
  {
   "cell_type": "markdown",
   "id": "e01a514f",
   "metadata": {},
   "source": [
    "### Q no 3: How can we detect and identify outliers in Daily Usage Hours, Exercise Hours, and Screen Time Before Bed among teens using the IQR method? Display the records corresponding to these outliers using boxplot."
   ]
  },
  {
   "cell_type": "code",
   "execution_count": 28,
   "id": "ec7d6cb4",
   "metadata": {},
   "outputs": [],
   "source": [
    "# identifying outlier in Daily usage hours by IQR method\n"
   ]
  },
  {
   "cell_type": "code",
   "execution_count": 29,
   "id": "1891fbe2",
   "metadata": {},
   "outputs": [
    {
     "data": {
      "text/plain": [
       "2.625"
      ]
     },
     "execution_count": 29,
     "metadata": {},
     "output_type": "execute_result"
    }
   ],
   "source": [
    "Q1 = df[\"Daily_Usage_Hours\"].quantile(0.25)\n",
    "Q3 = df[\"Daily_Usage_Hours\"].quantile(0.75)\n",
    "IQR= Q3-Q1\n",
    "IQR"
   ]
  },
  {
   "cell_type": "code",
   "execution_count": 30,
   "id": "6927c145",
   "metadata": {},
   "outputs": [
    {
     "name": "stdout",
     "output_type": "stream",
     "text": [
      "-0.23749999999999982\n",
      "10.2625\n"
     ]
    }
   ],
   "source": [
    "#finding lower and upper bound\n",
    "lower_bound = Q1 - 1.5 * IQR\n",
    "upper_bound = Q3 + 1.5 * IQR\n",
    "print(lower_bound)\n",
    "print(upper_bound)"
   ]
  },
  {
   "cell_type": "code",
   "execution_count": 31,
   "id": "7410242b",
   "metadata": {},
   "outputs": [
    {
     "data": {
      "text/plain": [
       "<AxesSubplot:xlabel='Daily_Usage_Hours'>"
      ]
     },
     "execution_count": 31,
     "metadata": {},
     "output_type": "execute_result"
    },
    {
     "data": {
      "image/png": "[encoded data removed]",
      "text/plain": [
       "<Figure size 432x288 with 1 Axes>"
      ]
     },
     "metadata": {
      "needs_background": "light"
     },
     "output_type": "display_data"
    }
   ],
   "source": [
    "sns.boxplot(df['Daily_Usage_Hours'])"
   ]
  },
  {
   "cell_type": "markdown",
   "id": "27ac788d",
   "metadata": {},
   "source": [
    "###### Lower bound is -0.23 and upper bound is 10.26.Any value lying outside these two values is an outlier.From boxplot we can see some values lies outside 10.these values are considered as outlier"
   ]
  },
  {
   "cell_type": "code",
   "execution_count": 33,
   "id": "c8516433",
   "metadata": {},
   "outputs": [],
   "source": [
    "# Finding outlier in Excersie hours and screem time before bed using above method"
   ]
  },
  {
   "cell_type": "code",
   "execution_count": 36,
   "id": "43f7b1a3",
   "metadata": {},
   "outputs": [
    {
     "data": {
      "text/plain": [
       "1.1"
      ]
     },
     "execution_count": 36,
     "metadata": {},
     "output_type": "execute_result"
    }
   ],
   "source": [
    "Q1 = df[\"Exercise_Hours\"].quantile(0.25)\n",
    "Q3 = df[\"Exercise_Hours\"].quantile(0.75)\n",
    "IQR= Q3-Q1\n",
    "IQR"
   ]
  },
  {
   "cell_type": "code",
   "execution_count": 37,
   "id": "39e9d59c",
   "metadata": {},
   "outputs": [
    {
     "name": "stdout",
     "output_type": "stream",
     "text": [
      "-1.25\n",
      "3.1500000000000004\n"
     ]
    }
   ],
   "source": [
    "#finding lower and upper bound\n",
    "lower_bound = Q1 - 1.5 * IQR\n",
    "upper_bound = Q3 + 1.5 * IQR\n",
    "print(lower_bound)\n",
    "print(upper_bound)"
   ]
  },
  {
   "cell_type": "code",
   "execution_count": 39,
   "id": "94bccfd6",
   "metadata": {},
   "outputs": [
    {
     "data": {
      "text/plain": [
       "<AxesSubplot:xlabel='Exercise_Hours'>"
      ]
     },
     "execution_count": 39,
     "metadata": {},
     "output_type": "execute_result"
    },
    {
     "data": {
      "image/png": "[encoded data removed]",
      "text/plain": [
       "<Figure size 432x288 with 1 Axes>"
      ]
     },
     "metadata": {
      "needs_background": "light"
     },
     "output_type": "display_data"
    }
   ],
   "source": [
    "sns.boxplot(df['Exercise_Hours'])"
   ]
  },
  {
   "cell_type": "code",
   "execution_count": 40,
   "id": "84d43fee",
   "metadata": {},
   "outputs": [],
   "source": [
    "#the values exceeding 3.1 are outliers"
   ]
  },
  {
   "cell_type": "code",
   "execution_count": 41,
   "id": "b58b400a",
   "metadata": {},
   "outputs": [
    {
     "data": {
      "text/plain": [
       "0.7"
      ]
     },
     "execution_count": 41,
     "metadata": {},
     "output_type": "execute_result"
    }
   ],
   "source": [
    "# Finding outlier in Screen Time Before Bed  using IQR method\n",
    "Q1 = df[\"Screen_Time_Before_Bed\"].quantile(0.25)\n",
    "Q3 = df[\"Screen_Time_Before_Bed\"].quantile(0.75)\n",
    "IQR= Q3-Q1\n",
    "IQR"
   ]
  },
  {
   "cell_type": "code",
   "execution_count": 42,
   "id": "2179c386",
   "metadata": {},
   "outputs": [
    {
     "name": "stdout",
     "output_type": "stream",
     "text": [
      "-0.34999999999999987\n",
      "2.4499999999999997\n"
     ]
    }
   ],
   "source": [
    "#finding lower and upper bound\n",
    "lower_bound = Q1 - 1.5 * IQR\n",
    "upper_bound = Q3 + 1.5 * IQR\n",
    "print(lower_bound)\n",
    "print(upper_bound)"
   ]
  },
  {
   "cell_type": "code",
   "execution_count": 43,
   "id": "d848ae15",
   "metadata": {},
   "outputs": [
    {
     "data": {
      "text/plain": [
       "<AxesSubplot:xlabel='Screen_Time_Before_Bed'>"
      ]
     },
     "execution_count": 43,
     "metadata": {},
     "output_type": "execute_result"
    },
    {
     "data": {
      "image/png": "[encoded data removed]",
      "text/plain": [
       "<Figure size 432x288 with 1 Axes>"
      ]
     },
     "metadata": {
      "needs_background": "light"
     },
     "output_type": "display_data"
    }
   ],
   "source": [
    "sns.boxplot(df['Screen_Time_Before_Bed'])"
   ]
  },
  {
   "cell_type": "code",
   "execution_count": 44,
   "id": "dbc49d3e",
   "metadata": {},
   "outputs": [],
   "source": [
    "#there is only 1 values exceeding upper limit 2.1 so this column has only 1 outlier"
   ]
  },
  {
   "cell_type": "code",
   "execution_count": 46,
   "id": "cb7e5db7",
   "metadata": {},
   "outputs": [],
   "source": [
    "#### Qno4: Corelation Heatmaap"
   ]
  },
  {
   "cell_type": "code",
   "execution_count": 51,
   "id": "7a49e5c9",
   "metadata": {},
   "outputs": [
    {
     "data": {
      "image/png": "[encoded data removed]",
      "text/plain": [
       "<Figure size 1008x720 with 2 Axes>"
      ]
     },
     "metadata": {
      "needs_background": "light"
     },
     "output_type": "display_data"
    }
   ],
   "source": [
    "cols = [\n",
    "    \n",
    "    'Daily_Usage_Hours', 'Sleep_Hours', 'Academic_Performance', 'Addiction_Level',\n",
    "    'Time_on_Social_Media', 'Time_on_Gaming', 'Time_on_Education', 'Apps_Used_Daily',\n",
    "    'Anxiety_Level', 'Depression_Level', 'Self_Esteem', 'Social_Interactions',\n",
    "    'Exercise_Hours', 'Screen_Time_Before_Bed', 'Phone_Checks_Per_Day',\n",
    "    'Family_Communication', 'Weekend_Usage_Hours'\n",
    "]\n",
    "\n",
    "# Compute correlation matrix\n",
    "corr_matrix = df[cols].corr()\n",
    "\n",
    "# Plot the heatmap\n",
    "plt.figure(figsize=(14, 10))\n",
    "sns.heatmap(corr_matrix, annot=True, cmap='coolwarm', fmt=\".2f\", linewidths=0.5)\n",
    "plt.title('Correlation Heatmap of Teen Behaviors and Mental Health Indicators')\n",
    "plt.xticks(rotation=45)\n",
    "plt.tight_layout()\n",
    "plt.show()"
   ]
  },
  {
   "cell_type": "markdown",
   "id": "55bafa05",
   "metadata": {},
   "source": [
    "#### How does the average addiction level vary across different age groups? Show with line graphQno5How does the average addiction level vary across different age groups? Show with line graph"
   ]
  },
  {
   "cell_type": "code",
   "execution_count": 54,
   "id": "350f89fd",
   "metadata": {},
   "outputs": [
    {
     "data": {
      "image/png": "[encoded data removed]",
      "text/plain": [
       "<Figure size 720x432 with 1 Axes>"
      ]
     },
     "metadata": {
      "needs_background": "light"
     },
     "output_type": "display_data"
    }
   ],
   "source": [
    "# Group by age and calculate average addiction level\n",
    "avg_addiction_by_age = df.groupby('Age')['Addiction_Level'].mean().reset_index()\n",
    "\n",
    "# Plotting the line graph\n",
    "plt.figure(figsize=(10, 6))\n",
    "sns.lineplot(data=avg_addiction_by_age, x='Age', y='Addiction_Level', marker='o')\n",
    "\n",
    "plt.title('Average Addiction Level Across Age Groups')\n",
    "plt.xlabel('Age')\n",
    "plt.ylabel('Average Addiction Level')\n",
    "plt.show()"
   ]
  },
  {
   "cell_type": "code",
   "execution_count": null,
   "id": "b9249994",
   "metadata": {},
   "outputs": [],
   "source": []
  }
 ],
 "metadata": {
  "kernelspec": {
   "display_name": "Python 3 (ipykernel)",
   "language": "python",
   "name": "python3"
  },
  "language_info": {
   "codemirror_mode": {
    "name": "ipython",
    "version": 3
   },
   "file_extension": ".py",
   "mimetype": "text/x-python",
   "name": "python",
   "nbconvert_exporter": "python",
   "pygments_lexer": "ipython3",
   "version": "3.9.7"
  }
 },
 "nbformat": 4,
 "nbformat_minor": 5
}
