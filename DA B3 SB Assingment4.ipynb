{
 "cells": [
  {
   "cell_type": "markdown",
   "id": "c0205318",
   "metadata": {},
   "source": [
    "### Assingment No: 4"
   ]
  },
  {
   "cell_type": "markdown",
   "id": "8c45a831",
   "metadata": {},
   "source": [
    "### Q1: An e-commerce store stores information about its products in a nested dictionary. The outer dictionary uses product IDs as keys, and the inner dictionary stores product details like name, category, price, and stock quantity. products = { 101: {\"name\": \"Laptop\", \"category\": \"Electronics\", \"price\": 1200, \"stock\": 50}, 102: {\"name\": \"Shirt\", \"category\": \"Apparel\", \"price\": 25, \"stock\": 200}, 103: {\"name\": \"Coffee Maker\", \"category\": \"Home Appliances\", \"price\": 80, \"stock\": 30} }\n",
    "\n",
    "• Increase the stock of the \"Shirt\" product (add 50 more units)\n",
    "\n",
    "• Add a new product (e.g., \"Smartphone\")"
   ]
  },
  {
   "cell_type": "code",
   "execution_count": 1,
   "id": "b20853dc",
   "metadata": {},
   "outputs": [
    {
     "name": "stdout",
     "output_type": "stream",
     "text": [
      "\n",
      "Product ID: 101\n",
      "Name: Laptop\n",
      "Category: Electronics\n",
      "Price: 1200\n",
      "Stock: 50\n",
      "\n",
      "Product ID: 102\n",
      "Name: Shirt\n",
      "Category: Apparel\n",
      "Price: 25\n",
      "Stock: 250\n",
      "\n",
      "Product ID: 103\n",
      "Name: Coffee Maker\n",
      "Category: Home Appliances\n",
      "Price: 80\n",
      "Stock: 30\n",
      "\n",
      "Product ID: 104\n",
      "Name: Smartphone\n",
      "Category: Electronics\n",
      "Price: 800\n",
      "Stock: 100\n"
     ]
    }
   ],
   "source": [
    "# SOlution\n",
    "\n",
    "# Initial product dictionary\n",
    "products = {\n",
    "    101: {\"name\": \"Laptop\", \"category\": \"Electronics\", \"price\": 1200, \"stock\": 50},\n",
    "    102: {\"name\": \"Shirt\", \"category\": \"Apparel\", \"price\": 25, \"stock\": 200},\n",
    "    103: {\"name\": \"Coffee Maker\", \"category\": \"Home Appliances\", \"price\": 80, \"stock\": 30}\n",
    "}\n",
    "\n",
    "# Increase stock of \"Shirt\" by 50\n",
    "\n",
    "products[102][\"stock\"] += 50\n",
    "\n",
    "# Add a new product: Smartphone\n",
    "products[104] = {\n",
    "    \"name\": \"Smartphone\",\n",
    "    \"category\": \"Electronics\",\n",
    "    \"price\": 800,\n",
    "    \"stock\": 100\n",
    "}\n",
    "\n",
    "# Print updated products\n",
    "for pid, details in products.items():\n",
    "    print(f\"\\nProduct ID: {pid}\")\n",
    "    for key in details:\n",
    "        print(f\"{key.capitalize()}: {details[key]}\")"
   ]
  },
  {
   "cell_type": "markdown",
   "id": "e40f7e1f",
   "metadata": {},
   "source": [
    "### Q2:  You are given a list that contains some duplicate items. Remove the duplicates. shopping_list = [\"apple\", \"banana\", \"apple\", \"orange\", \"banana\", \"grape\"]"
   ]
  },
  {
   "cell_type": "code",
   "execution_count": 2,
   "id": "66b11b23",
   "metadata": {},
   "outputs": [
    {
     "name": "stdout",
     "output_type": "stream",
     "text": [
      "Shopping list without duplicates: ['apple', 'orange', 'banana', 'grape']\n"
     ]
    }
   ],
   "source": [
    "# Solution\n",
    "\n",
    "shopping_list = [\"apple\", \"banana\", \"apple\", \"orange\", \"banana\", \"grape\"]\n",
    "\n",
    "for item in shopping_list[:]:\n",
    "    while shopping_list.count(item) > 1:\n",
    "        shopping_list.remove(item)\n",
    "\n",
    "print(\"Shopping list without duplicates:\", shopping_list)"
   ]
  },
  {
   "cell_type": "markdown",
   "id": "b73416fb",
   "metadata": {},
   "source": [
    "### Q3:  You are managing a list of students enrolled in two different courses. You need to perform various set operations to understand the student enrollment. Task: Create two sets: one for students in \"Course A\" and one for students in \"Course B\". Find the students who are in \"Course A\" but not in \"Course B\" (difference). Find students who are only in one of the two courses (symmetric difference).\n",
    "course_a = {\"John\", \"Alice\", \"Bob\", \"David\"}\n",
    "course_b = {\"Alice\", \"Eve\", \"Charlie\", \"David\"}\n",
    "Find students who are in Course A but not in Course B (difference)\n",
    "Find students who are only in one of the two courses (symmetric difference)"
   ]
  },
  {
   "cell_type": "code",
   "execution_count": 4,
   "id": "558a3a8c",
   "metadata": {},
   "outputs": [
    {
     "name": "stdout",
     "output_type": "stream",
     "text": [
      "Students in Course A but not in Course B: {'John', 'Bob'}\n",
      "Students only in one course (A or B): {'Charlie', 'John', 'Eve', 'Bob'}\n"
     ]
    }
   ],
   "source": [
    "# Solution\n",
    "\n",
    "course_a = {\"John\", \"Alice\", \"Bob\", \"David\"}\n",
    "course_b = {\"Alice\", \"Eve\", \"Charlie\", \"David\"}\n",
    "\n",
    "# Set difference\n",
    "difference = course_a.difference(course_b)\n",
    "\n",
    "# Set symmetric difference\n",
    "symmetric_difference = course_a.symmetric_difference(course_b)\n",
    "\n",
    "\n",
    "print(\"Students in Course A but not in Course B:\", difference)\n",
    "print(\"Students only in one course (A or B):\", symmetric_difference)"
   ]
  },
  {
   "cell_type": "markdown",
   "id": "10aae17b",
   "metadata": {},
   "source": [
    "### Q4: Write a Python program that calculates the sum of all even numbers between 1 and 50 (inclusive) using a for loop.\n",
    "\n",
    "Hint\n",
    "\n",
    "Initialize a variable to hold the sum (e.g., sum_of_evens).\n",
    "Use a for loop to iterate through all numbers from 1 to 50.\n",
    "Inside the loop, check if the number is even.\n",
    "If the number is even, add it to sum_of_evens.\n",
    "After the loop finishes, print the total sum of all even numbers between 1 and 50."
   ]
  },
  {
   "cell_type": "code",
   "execution_count": 5,
   "id": "40d45567",
   "metadata": {},
   "outputs": [
    {
     "name": "stdout",
     "output_type": "stream",
     "text": [
      "Sum of even numbers from 1 to 50 is: 650\n"
     ]
    }
   ],
   "source": [
    "#calculates the sum of all even numbers between 1 and 50 (inclusive) using a for loop.\n",
    "\n",
    "sum_of_evens = 0\n",
    "for num in range(1, 51):\n",
    "    if num % 2 == 0: \n",
    "        sum_of_evens += num\n",
    "\n",
    "print(\"Sum of even numbers from 1 to 50 is:\", sum_of_evens)"
   ]
  },
  {
   "cell_type": "markdown",
   "id": "3f7ac9b8",
   "metadata": {},
   "source": [
    "### Q5: Power of a Number Write a Python program that takes a number and prints the powers of the number (starting from 1 to 10) using a while loop. For example, if the user inputs 3, the output should be:\n",
    "\n",
    "3^1 = 3\n",
    "3^2 = 9\n",
    "3^3 = 27\n",
    "... up to 3^10.\n"
   ]
  },
  {
   "cell_type": "code",
   "execution_count": 7,
   "id": "5be3c933",
   "metadata": {},
   "outputs": [
    {
     "name": "stdout",
     "output_type": "stream",
     "text": [
      "Enter a number: 5\n",
      "5^1 = 5\n",
      "5^2 = 25\n",
      "5^3 = 125\n",
      "5^4 = 625\n",
      "5^5 = 3125\n",
      "5^6 = 15625\n",
      "5^7 = 78125\n",
      "5^8 = 390625\n",
      "5^9 = 1953125\n",
      "5^10 = 9765625\n"
     ]
    }
   ],
   "source": [
    "#Solution\n",
    "\n",
    "number = int(input(\"Enter a number: \"))\n",
    "exponent = 1\n",
    "while exponent <= 10:\n",
    "    power = number ** exponent  # Calculate the power\n",
    "    print(f\"{number}^{exponent} = {power}\")  # Print the result\n",
    "    exponent += 1  # Increment the exponent\n",
    "\n"
   ]
  },
  {
   "cell_type": "markdown",
   "id": "a9a8914f",
   "metadata": {},
   "source": [
    "### Q6:  Problem Statement: Write a Python program that takes an integer input from the user and counts down from that number to 0. The program should display the current number at each step until it reaches 0, at which point it should print a message indicating the countdown is finished\n",
    "Output Hint:\n",
    "Enter a number to start the countdown: 3\n",
    "\n",
    "3\n",
    "2\n",
    "1\n",
    "0\n",
    "Countdown finished!"
   ]
  },
  {
   "cell_type": "code",
   "execution_count": 8,
   "id": "f24cfcbe",
   "metadata": {},
   "outputs": [
    {
     "name": "stdout",
     "output_type": "stream",
     "text": [
      "Enter a number to start the countdown: 5\n",
      "5\n",
      "4\n",
      "3\n",
      "2\n",
      "1\n",
      "0\n"
     ]
    }
   ],
   "source": [
    "# Solution\n",
    "number = int(input(\"Enter a number to start the countdown: \"))\n",
    "\n",
    "# Countdown using while loop\n",
    "while number >= 0:\n",
    "    print(number)\n",
    "    number -= 1  # Decrease the number by 1"
   ]
  },
  {
   "cell_type": "markdown",
   "id": "7cc47698",
   "metadata": {},
   "source": [
    "### Q7: Write a Python program that takes a number as input from the user and calculates its factorial using a for loop. The program should display the result to the user.\n",
    "\n",
    "Example Input/Output:\n",
    "\n",
    "Input: 5\n",
    "Output: The factorial of 5 is 120"
   ]
  },
  {
   "cell_type": "code",
   "execution_count": 10,
   "id": "c17613b3",
   "metadata": {},
   "outputs": [
    {
     "name": "stdout",
     "output_type": "stream",
     "text": [
      "Enter a number to calculate its factorial: 6\n",
      "The factorial of 6 is 720\n"
     ]
    }
   ],
   "source": [
    "# Solution\n",
    "\n",
    "number = int(input(\"Enter a number to calculate its factorial: \"))\n",
    "\n",
    "# Initialize factorial result\n",
    "factorial = 1\n",
    "\n",
    "# Calculate factorial using a for loop\n",
    "for i in range(1, number + 1):\n",
    "    factorial *= i\n",
    "\n",
    "# Display the result\n",
    "print(f\"The factorial of {number} is {factorial}\")"
   ]
  },
  {
   "cell_type": "markdown",
   "id": "9e11f2fd",
   "metadata": {},
   "source": [
    "### Q8: Create an empty dictionary called person_info.\n",
    "Assign the following key-value pairs to the dictionary:\n",
    "\"name\": \"Alice\"\n",
    "\"age\": 25\n",
    "\"occupation\": \"Engineer\"\n",
    "\n",
    "After assigning the values, print the dictionary."
   ]
  },
  {
   "cell_type": "code",
   "execution_count": 11,
   "id": "9e09dce9",
   "metadata": {},
   "outputs": [
    {
     "name": "stdout",
     "output_type": "stream",
     "text": [
      "{'name': 'Alice', 'age': 25, 'occupation': 'Engineer'}\n"
     ]
    }
   ],
   "source": [
    "#Solution \n",
    "person_info = {}\n",
    "\n",
    "# Assign key-value pairs\n",
    "person_info[\"name\"] = \"Alice\"\n",
    "person_info[\"age\"] = 25\n",
    "person_info[\"occupation\"] = \"Engineer\"\n",
    "\n",
    "# Print the dictionary\n",
    "print(person_info)"
   ]
  },
  {
   "cell_type": "markdown",
   "id": "b9075316",
   "metadata": {},
   "source": [
    "### Q9:  Printing a right-angled triangle pattern (with NESTED while loop)"
   ]
  },
  {
   "cell_type": "code",
   "execution_count": 12,
   "id": "2f8c943a",
   "metadata": {},
   "outputs": [
    {
     "name": "stdout",
     "output_type": "stream",
     "text": [
      "Enter the number of rows: 6\n",
      "* \n",
      "* * \n",
      "* * * \n",
      "* * * * \n",
      "* * * * * \n",
      "* * * * * * \n"
     ]
    }
   ],
   "source": [
    "# SOlution\n",
    "rows = int(input(\"Enter the number of rows: \"))\n",
    "\n",
    "i = 1\n",
    "while i <= rows:\n",
    "    j = 1\n",
    "    while j <= i:\n",
    "        print(\"*\", end=\" \")\n",
    "        j += 1\n",
    "    print()\n",
    "    i += 1"
   ]
  },
  {
   "cell_type": "markdown",
   "id": "17125190",
   "metadata": {},
   "source": [
    "### Q 10: Write a Python program that does the following:\n",
    "\n",
    "Range: Loop through numbers from 1 to 20 (inclusive).\n",
    "Continue: If the number is divisible by 4, skip that iteration and move to the next number.\n",
    "Break: If the number is divisible by 7, stop the loop entirely.\n",
    "\n",
    "For all other numbers, print the number."
   ]
  },
  {
   "cell_type": "code",
   "execution_count": 13,
   "id": "a081e69c",
   "metadata": {},
   "outputs": [
    {
     "name": "stdout",
     "output_type": "stream",
     "text": [
      "1\n",
      "2\n",
      "3\n",
      "5\n",
      "6\n"
     ]
    }
   ],
   "source": [
    "for num in range(1, 21):\n",
    "    if num % 4 == 0:\n",
    "        continue  # Skip numbers divisible by 4\n",
    "    if num % 7 == 0:\n",
    "        break     # Stop the loop if number is divisible by 7\n",
    "    print(num)"
   ]
  },
  {
   "cell_type": "code",
   "execution_count": null,
   "id": "0b85f94b",
   "metadata": {},
   "outputs": [],
   "source": []
  }
 ],
 "metadata": {
  "kernelspec": {
   "display_name": "Python 3 (ipykernel)",
   "language": "python",
   "name": "python3"
  },
  "language_info": {
   "codemirror_mode": {
    "name": "ipython",
    "version": 3
   },
   "file_extension": ".py",
   "mimetype": "text/x-python",
   "name": "python",
   "nbconvert_exporter": "python",
   "pygments_lexer": "ipython3",
   "version": "3.9.7"
  }
 },
 "nbformat": 4,
 "nbformat_minor": 5
}
